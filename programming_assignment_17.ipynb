{
 "cells": [
  {
   "cell_type": "markdown",
   "metadata": {},
   "source": [
    "# Python Basic Programming Assignment\n",
    "## Assignment_17"
   ]
  },
  {
   "cell_type": "markdown",
   "metadata": {},
   "source": [
    "### Question1. Create a function that takes three arguments a, b, c and returns the sum of the numbers that are evenly divided by c from the range a, b inclusive."
   ]
  },
  {
   "cell_type": "code",
   "execution_count": 2,
   "metadata": {},
   "outputs": [
    {
     "name": "stdout",
     "output_type": "stream",
     "text": [
      "30\n"
     ]
    }
   ],
   "source": [
    "def sumDivisibles(A, B, M):\n",
    "    sum = 0\n",
    "    for i in range(A, B + 1):\n",
    "        if (i % M == 0):\n",
    "            sum += i\n",
    "    return sum\n",
    "\n",
    "A = 1\n",
    "B = 10\n",
    "M = 2\n",
    "print(sumDivisibles(A, B, M))"
   ]
  },
  {
   "cell_type": "markdown",
   "metadata": {},
   "source": [
    "### Question2. Create a function that returns True if a given inequality expression is correct and False otherwise."
   ]
  },
  {
   "cell_type": "code",
   "execution_count": null,
   "metadata": {},
   "outputs": [],
   "source": []
  },
  {
   "cell_type": "markdown",
   "metadata": {},
   "source": [
    "### Question3. Create a function that replaces all the vowels in a string with a specified character."
   ]
  },
  {
   "cell_type": "code",
   "execution_count": 9,
   "metadata": {},
   "outputs": [
    {
     "name": "stdout",
     "output_type": "stream",
     "text": [
      "the aardvark\n",
      "Enter the Character you want to replace the vowels with#\n"
     ]
    },
    {
     "data": {
      "text/plain": [
       "'th# ##rdv#rk'"
      ]
     },
     "execution_count": 9,
     "metadata": {},
     "output_type": "execute_result"
    }
   ],
   "source": [
    "def replace_vowels(test_str, K):\n",
    "    vowels = 'AEIOUaeiou'\n",
    "  \n",
    "    for ele in vowels:\n",
    "        test_str = test_str.replace(ele, K)\n",
    "  \n",
    "    return test_str\n",
    "\n",
    "\n",
    "input_str = input()\n",
    "K =input(\"Enter the Character you want to replace the vowels with\")\n",
    "\n",
    "replace_vowels(input_str, K)"
   ]
  },
  {
   "cell_type": "markdown",
   "metadata": {},
   "source": [
    "### Question4. Write a function that calculates the factorial of a number recursively."
   ]
  },
  {
   "cell_type": "code",
   "execution_count": 2,
   "metadata": {},
   "outputs": [
    {
     "name": "stdout",
     "output_type": "stream",
     "text": [
      "5\n",
      "Factorial :  120\n"
     ]
    }
   ],
   "source": [
    "def factorial(n):\n",
    "    if (n==1 or n==0):\n",
    "          \n",
    "        return 1\n",
    "      \n",
    "    else:\n",
    "          \n",
    "        return (n * factorial(n - 1)) \n",
    " \n",
    "num = int(input()) \n",
    "print(\"Factorial : \",factorial(num))"
   ]
  },
  {
   "cell_type": "markdown",
   "metadata": {},
   "source": [
    "### Question 5. Create a function that computes the hamming distance between two strings."
   ]
  },
  {
   "cell_type": "code",
   "execution_count": 3,
   "metadata": {},
   "outputs": [
    {
     "name": "stdout",
     "output_type": "stream",
     "text": [
      "5\n"
     ]
    }
   ],
   "source": [
    "def hammingDist(str1, str2):\n",
    "    i = 0\n",
    "    count = 0\n",
    " \n",
    "    while(i < len(str1)):\n",
    "        if(str1[i] != str2[i]):\n",
    "            count += 1\n",
    "        i += 1\n",
    "    return count\n",
    "  \n",
    "str1 = \"abcde\"\n",
    "str2 = \"bcdef\"\n",
    "\n",
    "print(hammingDist(str1, str2))"
   ]
  }
 ],
 "metadata": {
  "kernelspec": {
   "display_name": "Python 3",
   "language": "python",
   "name": "python3"
  },
  "language_info": {
   "codemirror_mode": {
    "name": "ipython",
    "version": 3
   },
   "file_extension": ".py",
   "mimetype": "text/x-python",
   "name": "python",
   "nbconvert_exporter": "python",
   "pygments_lexer": "ipython3",
   "version": "3.7.6"
  }
 },
 "nbformat": 4,
 "nbformat_minor": 4
}
