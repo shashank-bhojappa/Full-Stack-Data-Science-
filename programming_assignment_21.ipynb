{
 "cells": [
  {
   "cell_type": "markdown",
   "metadata": {},
   "source": [
    "# Python Basic Programming Assignment\n",
    "## Assignment_21"
   ]
  },
  {
   "cell_type": "markdown",
   "metadata": {},
   "source": [
    "### Question1\n",
    "### Write a function that takes a list and a number as arguments. Add the number to the end of the list, then remove the first element of the list. The function should then return the updated list."
   ]
  },
  {
   "cell_type": "code",
   "execution_count": 18,
   "metadata": {},
   "outputs": [],
   "source": [
    "def next_in_line(lst,num):\n",
    "    lst.append(num)\n",
    "    lst.pop(0)\n",
    "    print(lst)\n",
    "        "
   ]
  },
  {
   "cell_type": "code",
   "execution_count": 20,
   "metadata": {},
   "outputs": [
    {
     "name": "stdout",
     "output_type": "stream",
     "text": [
      "[6, 7, 8, 9, 1]\n"
     ]
    }
   ],
   "source": [
    "next_in_line([5,6,7,8,9],1)"
   ]
  },
  {
   "cell_type": "markdown",
   "metadata": {},
   "source": [
    "### Question2\n",
    "### Create the function that takes a list of dictionaries and returns the sum of people&#39;s budgets."
   ]
  },
  {
   "cell_type": "code",
   "execution_count": 53,
   "metadata": {},
   "outputs": [],
   "source": [
    "def get_budgets(lst):\n",
    "    sum = 0\n",
    "    for i in range(len(lst)):\n",
    "        budget = l[i][\"budget\"]\n",
    "        sum = sum + budget\n",
    "    print(sum)"
   ]
  },
  {
   "cell_type": "code",
   "execution_count": 54,
   "metadata": {},
   "outputs": [
    {
     "name": "stdout",
     "output_type": "stream",
     "text": [
      "65700\n"
     ]
    }
   ],
   "source": [
    "get_budgets([{ \"name\": \"John\", \"age\": 21, \"budget\": 23000 }, \n",
    "             { \"name\": \"Steve\", \"age\": 32, \"budget\": 40000 }, \n",
    "             { \"name\": \"Martin\", \"age\": 16, \"budget\": 2700 }])"
   ]
  },
  {
   "cell_type": "markdown",
   "metadata": {},
   "source": [
    "### Question3\n",
    "### Create a function that takes a string and returns a string with its letters in alphabetical order."
   ]
  },
  {
   "cell_type": "code",
   "execution_count": 6,
   "metadata": {},
   "outputs": [],
   "source": [
    "def alphabet_soup(string):\n",
    "    sorted_list = []\n",
    "    for i in string:\n",
    "        sorted_list.append(i)\n",
    "    sorted_list.sort()\n",
    "    join_sort = \"\".join(sorted_list)\n",
    "    print(join_sort)\n",
    "    "
   ]
  },
  {
   "cell_type": "code",
   "execution_count": 7,
   "metadata": {},
   "outputs": [
    {
     "name": "stdout",
     "output_type": "stream",
     "text": [
      "ehllo\n"
     ]
    }
   ],
   "source": [
    "alphabet_soup(\"hello\")"
   ]
  },
  {
   "cell_type": "markdown",
   "metadata": {},
   "source": [
    "### Question4\n",
    "### Suppose that you invest 10,000 for 10 years at an interest rate of 6% compounded monthly. What will be the value of your investment at the end of the 10 year period?\n",
    "### Create a function that accepts the principal p, the term in years t, the interest rate r, and the number of compounding periods per year n. The function returns the value at the end of term rounded to the nearest cent.\n",
    "### For the example above: compound_interest(10000, 10, 0.06, 12) ➞ 18193.97\n",
    "### Note that the interest rate is given as a decimal and n=12 because with monthly compounding there are 12 periods per year. Compounding can also be done annually, quarterly, weekly, or daily."
   ]
  },
  {
   "cell_type": "code",
   "execution_count": 12,
   "metadata": {},
   "outputs": [
    {
     "name": "stdout",
     "output_type": "stream",
     "text": [
      "Enter starting principle please. 10000\n",
      "Enter Compound intrest rate.(daily, monthly, quarterly, half-year, yearly) 12\n",
      "Enter annual interest amount. (decimal) 0.06\n",
      "Enter the amount of years. 10\n",
      "The final amount after 10 years is 18193.97\n"
     ]
    }
   ],
   "source": [
    "P = int(input(\"Enter starting principle please. \"))\n",
    "n = int(input(\"Enter Compound intrest rate.(daily, monthly, quarterly, half-year, yearly) \"))\n",
    "r = float(input(\"Enter annual interest amount. (decimal) \"))\n",
    "t = int(input(\"Enter the amount of years. \"))\n",
    "\n",
    "final = round(P * (((1 + (r/n)) ** (n*t))),2)\n",
    "print (\"The final amount after\", t, \"years is\", final)"
   ]
  },
  {
   "cell_type": "markdown",
   "metadata": {},
   "source": [
    "### Question5\n",
    "### Write a function that takes a list of elements and returns only the integers."
   ]
  },
  {
   "cell_type": "code",
   "execution_count": 13,
   "metadata": {},
   "outputs": [],
   "source": [
    "def filter_list(lst):\n",
    "    integers = []\n",
    "    for i in lst:\n",
    "        if type(i)==int:\n",
    "            integers.append(i)\n",
    "        else:\n",
    "            pass\n",
    "    print(integers) "
   ]
  },
  {
   "cell_type": "code",
   "execution_count": 15,
   "metadata": {},
   "outputs": [
    {
     "name": "stdout",
     "output_type": "stream",
     "text": [
      "[9, 2, 16]\n"
     ]
    }
   ],
   "source": [
    "filter_list([9, 2, \"space\", \"car\", \"lion\", 16])"
   ]
  }
 ],
 "metadata": {
  "kernelspec": {
   "display_name": "Python 3",
   "language": "python",
   "name": "python3"
  }
 },
 "nbformat": 4,
 "nbformat_minor": 4
}
