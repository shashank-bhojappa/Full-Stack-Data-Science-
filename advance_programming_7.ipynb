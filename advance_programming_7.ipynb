{
 "cells": [
  {
   "cell_type": "markdown",
   "metadata": {},
   "source": [
    "# Python Advance Programming Assignment\n",
    "## Assignment_7"
   ]
  },
  {
   "cell_type": "markdown",
   "metadata": {},
   "source": [
    "### 2. There are many different styles of music and many albums exhibit multiple styles. Create a function that takes a list of musical styles from albums and returns how many styles are unique."
   ]
  },
  {
   "cell_type": "code",
   "execution_count": 17,
   "metadata": {},
   "outputs": [],
   "source": [
    "def unique_styles(lst):\n",
    "    new_list = []\n",
    "    words_list = []\n",
    "    for i in lst:\n",
    "        words = i.split(',')\n",
    "        new_list.append(words)\n",
    "    for i in new_list:\n",
    "        for j in range(len(i)):\n",
    "            words_list.append(i[j])\n",
    "        \n",
    "    set_lst = set(words_list)\n",
    "    uniq_lst = list(set_lst)\n",
    "    unique = len(uniq_lst)\n",
    "    return unique\n",
    "    "
   ]
  },
  {
   "cell_type": "code",
   "execution_count": 21,
   "metadata": {},
   "outputs": [
    {
     "name": "stdout",
     "output_type": "stream",
     "text": [
      "9\n",
      "7\n"
     ]
    }
   ],
   "source": [
    "print(unique_styles([ \"Dub,Dancehall\", \"Industrial,Heavy Metal\", \"Techno,Dubstep\", \n",
    "               \"Synth-pop,Euro-Disco\", \"Industrial,Techno,Minimal\" ]))\n",
    "print(unique_styles([\"Soul\", \"House,Folk\", \"Trance,Downtempo,Big Beat,House\", \"Deep House\", \"Soul\"]))"
   ]
  },
  {
   "cell_type": "markdown",
   "metadata": {},
   "source": [
    "### 3. Create a function that finds a target number in a list of prime numbers. Implement a binary search algorithm in your function. The target number will be from 2 through 97. If the target is prime then return &quot;yes&quot; else return &quot;no&quot;."
   ]
  },
  {
   "cell_type": "code",
   "execution_count": 81,
   "metadata": {},
   "outputs": [
    {
     "name": "stdout",
     "output_type": "stream",
     "text": [
      "True\n",
      "False\n",
      "True\n",
      "False\n"
     ]
    }
   ],
   "source": [
    "def is_prime(primes,num):\n",
    "    #primes = [2, 3, 5, 7, 11, 13, 17, 19, 23, 29, 31, 37, 41, 43, 47, 53, 59, 61, 67, 71, 73, 79, 83, 89, 97]\n",
    "    if num<98:\n",
    "        if num in primes:\n",
    "            return True\n",
    "        else:\n",
    "            return False\n",
    "    else:\n",
    "        return \"The number is more than 97\"\n",
    "    \n",
    "primes = [2, 3, 5, 7, 11, 13, 17, 19, 23, 29, 31, 37, 41, 43, 47, 53, 59, 61, 67, 71, 73, 79, 83, 89, 97]\n",
    "\n",
    "print(is_prime(primes,3))\n",
    "print(is_prime(primes,4))\n",
    "print(is_prime(primes,67))\n",
    "print(is_prime(primes,36))"
   ]
  },
  {
   "cell_type": "markdown",
   "metadata": {},
   "source": [
    "### 4. Create a function that takes in n, a, b and returns the number of positive values raised to the nth power that lie in the range [a, b], inclusive."
   ]
  },
  {
   "cell_type": "code",
   "execution_count": 1,
   "metadata": {},
   "outputs": [
    {
     "name": "stdout",
     "output_type": "stream",
     "text": [
      "Enter number, min, max values: 4,250,1300\n",
      "3\n"
     ]
    }
   ],
   "source": [
    "def power_ranger():\n",
    "    count = 0 \n",
    "    n, min, max = map(int,input('Enter number, min, max values: ').split(',')) \n",
    "    for i in range(max): \n",
    "        if i**n in range(min,max): \n",
    "            count += 1 \n",
    "    return(count) \n",
    "    \n",
    "print(power_ranger())"
   ]
  },
  {
   "cell_type": "markdown",
   "metadata": {},
   "source": [
    "### 5. Given a number, return the difference between the maximum and minimum numbers that can be formed when the digits are rearranged."
   ]
  },
  {
   "cell_type": "code",
   "execution_count": 33,
   "metadata": {},
   "outputs": [
    {
     "name": "stdout",
     "output_type": "stream",
     "text": [
      "760833\n"
     ]
    }
   ],
   "source": [
    "def rearranged_difference(num):\n",
    "    def maximum(num):\n",
    "        count = [0 for x in range(10)]\n",
    "        string = str(num)\n",
    "\n",
    "        for i in range(len(string)):\n",
    "            count[int(string[i])] = count[int(string[i])] +  1\n",
    "\n",
    "        result = 0\n",
    "        multiplier = 1\n",
    "\n",
    "        for i in range(10):\n",
    "            while count[i] > 0:\n",
    "                result = result + ( i * multiplier )\n",
    "                count[i] = count[i] - 1\n",
    "                multiplier = multiplier * 10\n",
    "\n",
    "        return result\n",
    "\n",
    "    def minimum(lst):\n",
    "        for i,n in enumerate(lst):\n",
    "            if n != '0':\n",
    "                tmp = lst.pop(i)\n",
    "                break\n",
    "        return str(tmp) + ''.join(lst)\n",
    "\n",
    "\n",
    "    def difference():\n",
    "        lst = list(str(num))\n",
    "        lst.sort()\n",
    "        return maximum(num)-int(minimum(lst))\n",
    "    return difference()\n",
    "\n",
    "\n",
    "print(rearranged_difference(972882))  "
   ]
  }
 ],
 "metadata": {
  "kernelspec": {
   "display_name": "Python 3",
   "language": "python",
   "name": "python3"
  }
 },
 "nbformat": 4,
 "nbformat_minor": 4
}
