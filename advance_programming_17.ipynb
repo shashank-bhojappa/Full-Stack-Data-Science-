{
 "cells": [
  {
   "cell_type": "markdown",
   "metadata": {},
   "source": [
    "# Python Advance Programming Assignment\n",
    "## Assignment_17"
   ]
  },
  {
   "cell_type": "markdown",
   "metadata": {},
   "source": [
    "### 1. Create a function that transposes a 2D matrix."
   ]
  },
  {
   "cell_type": "code",
   "execution_count": 7,
   "metadata": {},
   "outputs": [
    {
     "name": "stdout",
     "output_type": "stream",
     "text": [
      "[[1, 2, 3], [1, 2, 3], [1, 2, 3]]\n"
     ]
    }
   ],
   "source": [
    "def transpose(l1):\n",
    "    l2 = []\n",
    "    \n",
    "    for i in range(len(l1[0])):\n",
    "        row =[]\n",
    "        for item in l1:\n",
    "            row.append(item[i])\n",
    "        l2.append(row)\n",
    "    return l2\n",
    "\n",
    "print(transpose([[1,1,1], [2,2,2], [3,3,3]]))"
   ]
  },
  {
   "cell_type": "markdown",
   "metadata": {},
   "source": [
    "### 2. Create a function that determines whether a string is a valid hex code. A hex code must begin with a pound key # and is exactly 6 characters in length. Each character must be a digit from 0-9 or an alphabetic character from A-F. All alphabetic characters may be uppercase or lowercase."
   ]
  },
  {
   "cell_type": "code",
   "execution_count": 14,
   "metadata": {},
   "outputs": [
    {
     "name": "stdout",
     "output_type": "stream",
     "text": [
      "True\n",
      "True\n",
      "True\n",
      "False\n",
      "False\n",
      "False\n",
      "False\n"
     ]
    }
   ],
   "source": [
    "import re\n",
    "\n",
    "def is_valid_hex_code(str):\n",
    "    regex = \"^#([A-Fa-f0-9]{6}|[A-Fa-f0-9]{3})$\"\n",
    " \n",
    "    p = re.compile(regex)\n",
    " \n",
    "    if(str == None):\n",
    "        return False\n",
    "    \n",
    "    if(re.search(p, str)):\n",
    "        return True\n",
    "    else:\n",
    "        return False\n",
    " \n",
    "print(is_valid_hex_code(\"#CD5C5C\"))\n",
    "print(is_valid_hex_code(\"#EAECEE\"))\n",
    "print(is_valid_hex_code(\"#eaecee\"))\n",
    "print(is_valid_hex_code(\"#CD5C58C\"))\n",
    "print(is_valid_hex_code(\"#CD5C5Z\"))\n",
    "print(is_valid_hex_code(\"#CD5C&C\"))\n",
    "print(is_valid_hex_code(\"CD5C5C\"))"
   ]
  },
  {
   "cell_type": "markdown",
   "metadata": {},
   "source": [
    "### 3. Given a list of math equations (given as strings), return the percentage of correct answers as a string. Round to the nearest whole number."
   ]
  },
  {
   "cell_type": "code",
   "execution_count": 165,
   "metadata": {},
   "outputs": [
    {
     "name": "stdout",
     "output_type": "stream",
     "text": [
      "75.0%\n",
      "67.0%\n",
      "0.0%\n"
     ]
    }
   ],
   "source": [
    "import operator\n",
    "\n",
    "def mark_maths(lst):\n",
    "    ops = { \"+\": operator.add, \"-\": operator.sub, \"*\": operator.mul, \"/\": operator.truediv }\n",
    "    \n",
    "    number = []\n",
    "    op = []\n",
    "    for i in lst:\n",
    "        numbers = re.findall('[0-9]+', i)\n",
    "        number.append(numbers)\n",
    "        \n",
    "        operators = re.findall('[+-/*]', i)\n",
    "        op.append(operators)\n",
    "    \n",
    "    true_count = 0\n",
    "    false_count = 0\n",
    "    \n",
    "    for i in range(0,len(lst)):\n",
    "        first_num = number[i][0]\n",
    "        second_num = number[i][1]\n",
    "        ans = number[i][2]\n",
    "        \n",
    "        oper = op[i][0]\n",
    "        true_ans = (ops[oper](int(first_num),int(second_num)))\n",
    "        \n",
    "        if true_ans == int(ans):\n",
    "            true_count = true_count + 1\n",
    "        else:\n",
    "            false_count = false_count + 1\n",
    "    \n",
    "    total_count = true_count + false_count\n",
    "    percent =  true_count / total_count\n",
    "    mul_100 = round(percent * 100,0)\n",
    "    \n",
    "    return(str(mul_100)+'%')\n",
    "\n",
    "print(mark_maths([\"2+2=4\", \"3+2=5\", \"10-3=3\", \"5+5=10\"]))\n",
    "print(mark_maths([\"2+3=5\", \"4+4=9\", \"3-1=2\"]))\n",
    "print(mark_maths([\"1-2=-2\"]))"
   ]
  }
 ],
 "metadata": {
  "kernelspec": {
   "display_name": "Python 3",
   "language": "python",
   "name": "python3"
  },
  "language_info": {
   "codemirror_mode": {
    "name": "ipython",
    "version": 3
   },
   "file_extension": ".py",
   "mimetype": "text/x-python",
   "name": "python",
   "nbconvert_exporter": "python",
   "pygments_lexer": "ipython3",
   "version": "3.7.6"
  }
 },
 "nbformat": 4,
 "nbformat_minor": 4
}
