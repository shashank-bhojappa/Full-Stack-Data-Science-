{
 "cells": [
  {
   "cell_type": "markdown",
   "metadata": {},
   "source": [
    "# Python Advance Programming Assignment\n",
    "## Assignment_13"
   ]
  },
  {
   "cell_type": "markdown",
   "metadata": {},
   "source": [
    "### 1. Create a function that takes a list and string. The function should remove the letters in the string from the list, and return the list."
   ]
  },
  {
   "cell_type": "code",
   "execution_count": 105,
   "metadata": {},
   "outputs": [
    {
     "name": "stdout",
     "output_type": "stream",
     "text": [
      "['w']\n",
      "[]\n"
     ]
    }
   ],
   "source": [
    "def remove_letters(lst,str):\n",
    "    removed = []\n",
    "    for i in lst:\n",
    "        if i not in str:\n",
    "            removed.append(i)\n",
    "    return removed\n",
    "print(remove_letters([\"s\", \"t\", \"r\", \"i\", \"n\", \"g\", \"w\"], \"string\"))\n",
    "print(remove_letters([\"d\", \"b\", \"t\", \"e\", \"a\", \"i\"], \"edabit\"))            "
   ]
  },
  {
   "cell_type": "markdown",
   "metadata": {},
   "source": [
    "### 2. Create a function that takes a number (step) as an argument and returns the amount of blocks in that step."
   ]
  },
  {
   "cell_type": "code",
   "execution_count": 10,
   "metadata": {},
   "outputs": [
    {
     "name": "stdout",
     "output_type": "stream",
     "text": [
      "12\n",
      "39\n",
      "5\n"
     ]
    }
   ],
   "source": [
    "def blocks(num):\n",
    "    summ = 0\n",
    "    block = 5\n",
    "    for i in range(num+1):\n",
    "        if i == 0:\n",
    "            summ = 0+i\n",
    "        elif i == 1:\n",
    "            summ = summ + block\n",
    "        else:\n",
    "            summ = summ +(block + i)\n",
    "    return summ\n",
    " \n",
    "print(blocks(2))\n",
    "print(blocks(5))\n",
    "print(blocks(1))"
   ]
  },
  {
   "cell_type": "markdown",
   "metadata": {},
   "source": [
    "### 3. Create a function that subtracts one positive integer from another, without using any arithmetic operators such as -, %, /, +, etc."
   ]
  },
  {
   "cell_type": "code",
   "execution_count": 4,
   "metadata": {},
   "outputs": [
    {
     "name": "stdout",
     "output_type": "stream",
     "text": [
      "4\n",
      "20\n",
      "0\n"
     ]
    }
   ],
   "source": [
    "def my_sub(x, y):\n",
    "    while (y != 0):\n",
    "        borrow = (~x) & y\n",
    "        x = x ^ y\n",
    "        y = borrow << 1\n",
    "     \n",
    "    return x\n",
    " \n",
    "print(my_sub(9, 5))\n",
    "print(my_sub(30,10))\n",
    "print(my_sub(0, 0))\n",
    " "
   ]
  },
  {
   "cell_type": "markdown",
   "metadata": {},
   "source": [
    "### 4. Create a function that takes a string containing money in dollars and pounds sterling (seperated by comma) and returns the sum of dollar bills only,\n",
    "as an integer."
   ]
  },
  {
   "cell_type": "code",
   "execution_count": 82,
   "metadata": {},
   "outputs": [
    {
     "name": "stdout",
     "output_type": "stream",
     "text": [
      "70\n",
      "170\n",
      "2200\n"
     ]
    }
   ],
   "source": [
    "import re\n",
    "\n",
    "def add_bill(sent):\n",
    "    split_sent = sent.split(',')\n",
    "    \n",
    "    all_dol = []\n",
    "    for i in split_sent:\n",
    "        if i[0]== 'd':\n",
    "            all_dol.append(i)\n",
    "    \n",
    "    dol_k = []\n",
    "    dol = []\n",
    "    for i in all_dol:\n",
    "        if i[-1]=='k':\n",
    "            dol_k.append(i)\n",
    "        else:\n",
    "            dol.append(i)   \n",
    "    \n",
    "    final_list = []\n",
    "    \n",
    "    for i in dol_k:\n",
    "        rem_k = int(i[1:-1])\n",
    "        mul_1000 = rem_k * 1000\n",
    "        final_list.append(mul_1000)\n",
    "        \n",
    "    for i in dol:\n",
    "        rem = int(i[1:])\n",
    "        final_list.append(rem)\n",
    "    \n",
    "    sum = 0\n",
    "    for i in final_list:\n",
    "        sum = sum + i\n",
    "        \n",
    "        \n",
    "    return(sum)\n",
    "        \n",
    "print(add_bill(\"d20,p40,p60,d50\"))\n",
    "print(add_bill(\"p30,d20,p60,d150,p360\"))\n",
    "print(add_bill(\"p30,d2k,p60,d200,p360\"))    "
   ]
  }
 ],
 "metadata": {
  "kernelspec": {
   "display_name": "Python 3",
   "language": "python",
   "name": "python3"
  },
  "language_info": {
   "codemirror_mode": {
    "name": "ipython",
    "version": 3
   },
   "file_extension": ".py",
   "mimetype": "text/x-python",
   "name": "python",
   "nbconvert_exporter": "python",
   "pygments_lexer": "ipython3",
   "version": "3.7.6"
  }
 },
 "nbformat": 4,
 "nbformat_minor": 4
}
