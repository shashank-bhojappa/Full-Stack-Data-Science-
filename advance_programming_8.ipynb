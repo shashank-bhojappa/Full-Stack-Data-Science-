{
 "cells": [
  {
   "cell_type": "markdown",
   "metadata": {},
   "source": [
    "# Python Advance Programming Assignment\n",
    "## Assignment_8"
   ]
  },
  {
   "cell_type": "markdown",
   "metadata": {},
   "source": [
    "### 3. Create a function that returns the characters from a list or string r on odd or even positions, depending on the specifier s. The specifier will be &quot;odd&quot; for items on odd positions (1, 3, 5, ...) and &quot;even&quot; for items on even positions (2, 4, 6, ...)."
   ]
  },
  {
   "cell_type": "code",
   "execution_count": 26,
   "metadata": {},
   "outputs": [
    {
     "name": "stdout",
     "output_type": "stream",
     "text": [
      "[4, 8]\n",
      "['A', 'B', 'T', 'A', 'I', 'Y']\n"
     ]
    }
   ],
   "source": [
    "def char_at_pos(lst,e_o):\n",
    "    indexes = []\n",
    "    for i in range(len(lst)):\n",
    "        if e_o=='odd':\n",
    "            if i%2==0:\n",
    "                indexes.append(lst[i])\n",
    "        elif e_o=='even':\n",
    "            if i%2 != 0:\n",
    "                indexes.append(lst[i])\n",
    "    return indexes\n",
    "\n",
    "print(char_at_pos([2, 4, 6, 8, 10], \"even\"))\n",
    "print(char_at_pos([\"A\", \"R\", \"B\", \"I\", \"T\", \"R\", \"A\", \"R\", \"I\", \"L\", \"Y\"], \"odd\"))"
   ]
  },
  {
   "cell_type": "markdown",
   "metadata": {},
   "source": [
    "### 4. Write a function that returns the greatest common divisor of all list elements. If the greatest common divisor is 1, return 1."
   ]
  },
  {
   "cell_type": "code",
   "execution_count": 3,
   "metadata": {},
   "outputs": [
    {
     "name": "stdout",
     "output_type": "stream",
     "text": [
      "GCD of array elements is  5.\n",
      "GCD of array elements is  10.\n",
      "GCD of array elements is  64.\n",
      "GCD of array elements is  1.\n"
     ]
    }
   ],
   "source": [
    "import math\n",
    "\n",
    "def GCD(lst):\n",
    "    b=lst[0]  \n",
    "    for j in range(1,len(lst)):\n",
    "        s=math.gcd(b,lst[j])\n",
    "        b=s\n",
    "    return('GCD of array elements is  {}.'.format(b))\n",
    "\n",
    "print(GCD([40,15,25,50,70,10,95]))\n",
    "print(GCD([10, 20, 40]))\n",
    "print(GCD([1024, 192, 2048, 512]))\n",
    "print(GCD([1, 2, 3, 100]))"
   ]
  },
  {
   "cell_type": "markdown",
   "metadata": {},
   "source": [
    "### 5. A number/string is a palindrome if the digits/characters are the same whenread both forward and backward. Examples include &quot;racecar&quot; and 12321. Given a positive number n, check if n or the binary representation of n is palindromic. Return the following:\n",
    "\n",
    "### - &quot;Decimal only.&quot; if only n is a palindrome.\n",
    "\n",
    "### - &quot;Binary only.&quot; if only the binary representation of n is a palindrome.\n",
    "\n",
    "### - &quot;Decimal and binary.&quot; if both are palindromes.\n",
    "\n",
    "### - &quot;Neither!&quot; if neither are palindromes."
   ]
  },
  {
   "cell_type": "code",
   "execution_count": 102,
   "metadata": {},
   "outputs": [
    {
     "name": "stdout",
     "output_type": "stream",
     "text": [
      "Decimal only\n",
      "Decimal and Binary\n",
      "Binary only\n",
      "Niether\n"
     ]
    }
   ],
   "source": [
    "def palindrome_type(numb):\n",
    "    def binaryPallindrome(num):\n",
    "         binary = bin(num)\n",
    "         binary = binary[2:]\n",
    "\n",
    "         return binary == binary[-1::-1]\n",
    "\n",
    "    def decimalPallindrome(num):\n",
    "        temp=num\n",
    "        rev=0\n",
    "        while(num>0):\n",
    "            dig=num%10\n",
    "            rev=rev*10+dig\n",
    "            num=num//10\n",
    "        if(temp==rev):\n",
    "            return True\n",
    "        else:\n",
    "            return False\n",
    "\n",
    "    def check(numb):\n",
    "        if binaryPallindrome(numb)==True and decimalPallindrome(numb)==True:\n",
    "            return('Decimal and Binary')\n",
    "        elif binaryPallindrome(numb)==False and decimalPallindrome(numb)==False:\n",
    "            return('Niether')\n",
    "        elif binaryPallindrome(numb)==True and decimalPallindrome(numb)==False:\n",
    "            return('Binary only')\n",
    "        elif binaryPallindrome(numb)==False and decimalPallindrome(numb)==True:\n",
    "            return('Decimal only')\n",
    "    return check(numb)\n",
    "\n",
    "print(palindrome_type(1306031))\n",
    "print(palindrome_type(313))\n",
    "print(palindrome_type(427787))\n",
    "print(palindrome_type(934))"
   ]
  }
 ],
 "metadata": {
  "kernelspec": {
   "display_name": "Python 3",
   "language": "python",
   "name": "python3"
  }
 },
 "nbformat": 4,
 "nbformat_minor": 4
}
