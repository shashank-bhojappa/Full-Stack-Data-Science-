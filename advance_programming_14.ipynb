{
 "cells": [
  {
   "cell_type": "markdown",
   "metadata": {},
   "source": [
    "# Python Advance Programming Assignment\n",
    "## Assignment_14"
   ]
  },
  {
   "cell_type": "markdown",
   "metadata": {},
   "source": [
    "### 1. Given a list of numbers, create a function that removes 25% from every number in the list except the smallest number, and adds the total amount removed to the smallest number."
   ]
  },
  {
   "cell_type": "code",
   "execution_count": 74,
   "metadata": {},
   "outputs": [
    {
     "name": "stdout",
     "output_type": "stream",
     "text": [
      "[3.0, 3.0, 3.0]\n",
      "[12.0, 7.5, 14.5]\n",
      "[27.0, 75.0]\n"
     ]
    }
   ],
   "source": [
    "def show_the_love(lst):\n",
    "       \n",
    "    sum_list = []\n",
    "    for i in range(len(lst)):\n",
    "        if lst[i] == min(lst) :\n",
    "            pass\n",
    "        else:\n",
    "            percent = lst[i] * 0.25\n",
    "            sum_list.append(percent)\n",
    "\n",
    "    sum = 0\n",
    "    for i in sum_list:\n",
    "        sum = sum + i\n",
    "    \n",
    "    final_list = []\n",
    "    for i in range(len(lst)):\n",
    "        if lst[i] == min(lst):\n",
    "            summ = sum + lst[i]\n",
    "            final_list.append(summ)\n",
    "        else:\n",
    "            percent = lst[i] * 0.25\n",
    "            percent_num = lst[i]-percent\n",
    "            final_list.append(percent_num)\n",
    "            \n",
    "    return final_list\n",
    "\n",
    "print(show_the_love([4,1,4]))\n",
    "print(show_the_love([16,10,8]))\n",
    "print(show_the_love([2,100]))"
   ]
  },
  {
   "cell_type": "markdown",
   "metadata": {},
   "source": [
    "### 2. Create a function that takes in two words as input and returns a list of three elements, in the following order:\n",
    "### -Shared letters between two words.\n",
    "### -Letters unique to word 1.\n",
    "### -Letters unique to word 2."
   ]
  },
  {
   "cell_type": "code",
   "execution_count": 237,
   "metadata": {},
   "outputs": [
    {
     "name": "stdout",
     "output_type": "stream",
     "text": [
      "['sap', 'hr', 'o']\n",
      "['bord', 'a', 'e']\n",
      "['pne', 'haiss', 'vlo']\n"
     ]
    }
   ],
   "source": [
    "def letters(str1,str2):\n",
    "    final_list = []\n",
    "    \n",
    "    common = \"\"\n",
    "    for i in str1:\n",
    "        if i in str2:\n",
    "            common = common + i\n",
    "    final_list.append(common)\n",
    "    \n",
    "    uniq1 = \"\"\n",
    "    for i in str1:\n",
    "        if i not in str2:\n",
    "            uniq1 = uniq1 + i\n",
    "    final_list.append(uniq1)\n",
    "    \n",
    "    uniq2 = \"\"\n",
    "    for i in str2:\n",
    "        if i not in str1:\n",
    "            uniq2 = uniq2 + i\n",
    "    final_list.append(uniq2)\n",
    "    \n",
    "    return final_list\n",
    "\n",
    "print(letters('sharp','soap'))\n",
    "print(letters(\"board\", \"bored\"))\n",
    "print(letters(\"hapiness\", \"envelope\"))"
   ]
  },
  {
   "cell_type": "markdown",
   "metadata": {},
   "source": [
    "### 3. Write a function that pairs the first number in an array with the last, the second number with the second to last, etc."
   ]
  },
  {
   "cell_type": "code",
   "execution_count": 213,
   "metadata": {},
   "outputs": [
    {
     "name": "stdout",
     "output_type": "stream",
     "text": [
      "[[1, 6], [2, 5], [3, 4]]\n",
      "[[1, 7], [2, 6], [3, 5], [4, 4]]\n",
      "[[5, 2], [9, 1], [8, 8]]\n"
     ]
    }
   ],
   "source": [
    "import math\n",
    "\n",
    "def pairs(lst):\n",
    "    \n",
    "    def findMiddle():\n",
    "        middle = float(len(lst))/2\n",
    "        if middle % 2 != 0:\n",
    "            return lst[int(middle - .5)]\n",
    "        else:\n",
    "            return (lst[int(middle)], lst[int(middle-1)])\n",
    "    \n",
    "    middle_num = findMiddle()\n",
    "    middle = math.ceil(len(lst)/2)\n",
    "    middle_even = int(len(lst)/2)\n",
    "    odd_pair_list = []\n",
    "    even_pair_list = []\n",
    "    \n",
    "    if len(lst)%2 != 0:\n",
    "               \n",
    "        for i in range(1,middle+1):\n",
    "            if i<middle:\n",
    "                first = lst[0]\n",
    "                second = lst[-1]\n",
    "                fir_sec = [first,second]\n",
    "                odd_pair_list.append(fir_sec)\n",
    "                lst.pop(0)\n",
    "                lst.pop(-1)\n",
    "                              \n",
    "            else:\n",
    "                fir_sec = [middle_num,middle_num]\n",
    "                odd_pair_list.append(fir_sec)\n",
    "        return odd_pair_list  \n",
    "    \n",
    "    else:\n",
    "        for i in range(1,middle_even+1):\n",
    "       \n",
    "            first = lst[0]\n",
    "            second = lst[-1]\n",
    "            fir_sec = [first,second]\n",
    "            even_pair_list.append(fir_sec)\n",
    "            lst.pop(0)\n",
    "            lst.pop(-1)\n",
    "        return even_pair_list    \n",
    "\n",
    "    \n",
    "print(pairs([1,2,3,4,5,6]))\n",
    "print(pairs([1,2,3,4,5,6,7]))\n",
    "print(pairs([5, 9, 8, 1, 2]))"
   ]
  },
  {
   "cell_type": "markdown",
   "metadata": {},
   "source": [
    "### 4. Write a function that adds two numbers. The catch, however, is that the numbers will be strings."
   ]
  },
  {
   "cell_type": "code",
   "execution_count": 263,
   "metadata": {},
   "outputs": [
    {
     "name": "stdout",
     "output_type": "stream",
     "text": [
      "9\n",
      "-1\n",
      "1\n"
     ]
    }
   ],
   "source": [
    "def add_str_nums(stra,strb):\n",
    "    \n",
    "    try:\n",
    "        if stra == \"\":\n",
    "            stra=0\n",
    "        if strb == \"\":\n",
    "            strb=0\n",
    "        a=int(stra)\n",
    "        b=int(strb)\n",
    "        add = a + b\n",
    "    except Exception as ex:\n",
    "        return(\"-1\")\n",
    "    else:\n",
    "        return(str(add))\n",
    "        \n",
    "print(add_str_nums('4','5'))\n",
    "print(add_str_nums(\"abcdefg\", \"3\"))\n",
    "print(add_str_nums('1',''))"
   ]
  },
  {
   "cell_type": "markdown",
   "metadata": {},
   "source": [
    "### 5. Somehow my strings have all become mixed up; every pair of characters has been swapped. Help me undo this so I can understand my strings again."
   ]
  },
  {
   "cell_type": "code",
   "execution_count": 212,
   "metadata": {},
   "outputs": [
    {
     "name": "stdout",
     "output_type": "stream",
     "text": [
      "abcde\n",
      "214365\n",
      "This is a mixed up string.\n"
     ]
    }
   ],
   "source": [
    "def unmix(s):\n",
    "    unmixing = ''.join([ s[x:x+2][::-1] for x in range(0, len(s), 2) ])\n",
    "    return unmixing\n",
    "\n",
    "print(unmix('badce'))\n",
    "print(unmix('123456'))\n",
    "print(unmix(\"hTsii  s aimex dpus rtni.g\"))"
   ]
  }
 ],
 "metadata": {
  "kernelspec": {
   "display_name": "Python 3",
   "language": "python",
   "name": "python3"
  },
  "language_info": {
   "codemirror_mode": {
    "name": "ipython",
    "version": 3
   },
   "file_extension": ".py",
   "mimetype": "text/x-python",
   "name": "python",
   "nbconvert_exporter": "python",
   "pygments_lexer": "ipython3",
   "version": "3.7.6"
  }
 },
 "nbformat": 4,
 "nbformat_minor": 4
}
