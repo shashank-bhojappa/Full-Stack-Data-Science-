{
 "cells": [
  {
   "cell_type": "markdown",
   "metadata": {},
   "source": [
    "# Python Basic Assignment\n",
    "## Assignment_24"
   ]
  },
  {
   "cell_type": "markdown",
   "metadata": {},
   "source": [
    "### 1. What is the relationship between def statements and lambda expressions ?"
   ]
  },
  {
   "cell_type": "markdown",
   "metadata": {},
   "source": [
    "As an expression, lambda returns a value that can optionally be assigned a name. In contrast, the def statement always assigns the new function to the name in the header, instead of returning is as a result. lambda's body is a single expression, not a block of statements."
   ]
  },
  {
   "cell_type": "markdown",
   "metadata": {},
   "source": [
    "### 2. What is the benefit of lambda?"
   ]
  },
  {
   "cell_type": "markdown",
   "metadata": {},
   "source": [
    "Lambda expressions are used to create anonymous functions, or functions without a name. They are useful when we need to create a function that will only need to be used once (a throw-away function) and can be written in one line. Lambda functions can have any number of parameters but can only have one expression"
   ]
  },
  {
   "cell_type": "markdown",
   "metadata": {},
   "source": [
    "### 3. Compare and contrast map, filter, and reduce."
   ]
  },
  {
   "cell_type": "markdown",
   "metadata": {},
   "source": [
    "map creates a new array by transforming every element in an array, individually. filter creates a new array by removing elements that don't belong. reduce , on the other hand, takes all of the elements in an array and reduces them into a single value. Just like map and filter , reduce is defined on Array"
   ]
  },
  {
   "cell_type": "markdown",
   "metadata": {},
   "source": [
    "### 4. What are function annotations, and how are they used?"
   ]
  },
  {
   "cell_type": "markdown",
   "metadata": {},
   "source": [
    "Function annotations introduced in Python 3.0 adds a feature that allows you to add arbitrary metadata to function parameters and return value. Since python 3, function annotations have been officially added to python (PEP-3107). The primary purpose was to have a standard way to link metadata to function parameters and return value"
   ]
  },
  {
   "cell_type": "markdown",
   "metadata": {},
   "source": [
    "### 5. What are recursive functions, and how are they used?"
   ]
  },
  {
   "cell_type": "markdown",
   "metadata": {},
   "source": [
    "A recursive function is a function that calls itself during its execution. The process may repeat several times, outputting the result and the end of each iteration.\n",
    "\n",
    "Recursive functions allow programmers to write efficient programs using a minimal amount of code. The downside is that they can cause infinite loops and other unexpected results if not written properly."
   ]
  },
  {
   "cell_type": "markdown",
   "metadata": {},
   "source": [
    "### 6. What are some general design guidelines for coding functions?"
   ]
  },
  {
   "cell_type": "markdown",
   "metadata": {},
   "source": [
    "Some of the coding standards are given below:\n",
    "\n",
    "#### 1. Limited use of globals:\n",
    "These rules tell about which types of data that can be declared global and the data that can’t be.\n",
    "\n",
    "#### 2. Standard headers for different modules:\n",
    "For better understanding and maintenance of the code, the header of different modules should follow some standard format and information. The header format must contain below things that is being used in various companies:\n",
    "Name of the module\n",
    "Date of module creation\n",
    "Author of the module\n",
    "Modification history\n",
    "Synopsis of the module about what the module does\n",
    "Different functions supported in the module along with their input output parameters\n",
    "Global variables accessed or modified by the module\n",
    "\n",
    "#### 3. Naming conventions for local variables, global variables, constants and functions:\n",
    "Some of the naming conventions are given below:\n",
    "Meaningful and understandable variables name helps anyone to understand the reason of using it.\n",
    "Local variables should be named using camel case lettering starting with small letter (e.g. localData) whereas Global variables names should start with a capital letter (e.g. GlobalData). Constant names should be formed using capital letters only (e.g. CONSDATA).\n",
    "It is better to avoid the use of digits in variable names.\n",
    "The names of the function should be written in camel case starting with small letters.\n",
    "The name of the function must describe the reason of using the function clearly and briefly.\n",
    "\n",
    "#### 4. Indentation:\n",
    "Proper indentation is very important to increase the readability of the code. For making the code readable, programmers should use White spaces properly. Some of the spacing conventions are given below:\n",
    "There must be a space after giving a comma between two function arguments.\n",
    "Each nested block should be properly indented and spaced.\n",
    "Proper Indentation should be there at the beginning and at the end of each block in the program.\n",
    "All braces should start from a new line and the code following the end of braces also start from a new line.\n",
    "\n",
    "#### 5. Error return values and exception handling conventions:\n",
    "All functions that encountering an error condition should either return a 0 or 1 for simplifying the debugging.\n",
    "\n",
    "#### 6. Avoid using a coding style that is too difficult to understand:\n",
    "Code should be easily understandable. The complex code makes maintenance and debugging difficult and expensive\n",
    "\n",
    "#### 7. Avoid using an identifier for multiple purposes:\n",
    "Each variable should be given a descriptive and meaningful name indicating the reason behind using it. This is not possible if an identifier is used for multiple purposes and thus it can lead to confusion to the reader. Moreover, it leads to more difficulty during future enhancements.\n",
    "\n",
    "#### 8. Code should be well documented:\n",
    "The code should be properly commented for understanding easily. Comments regarding the statements increase the understandability of the code.\n",
    "\n",
    "#### 9. Length of functions should not be very large:\n",
    "Lengthy functions are very difficult to understand. That’s why functions should be small enough to carry out small work and lengthy functions should be broken into small ones for completing small tasks.\n",
    "\n",
    "#### 10. Try not to use GOTO statement:\n",
    "GOTO statement makes the program unstructured, thus it reduces the understandability of the program and also debugging becomes difficult."
   ]
  }
 ],
 "metadata": {
  "kernelspec": {
   "display_name": "Python 3",
   "language": "python",
   "name": "python3"
  },
  "language_info": {
   "codemirror_mode": {
    "name": "ipython",
    "version": 3
   },
   "file_extension": ".py",
   "mimetype": "text/x-python",
   "name": "python",
   "nbconvert_exporter": "python",
   "pygments_lexer": "ipython3",
   "version": "3.7.6"
  }
 },
 "nbformat": 4,
 "nbformat_minor": 4
}
