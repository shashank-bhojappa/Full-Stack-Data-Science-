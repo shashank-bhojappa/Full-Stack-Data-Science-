{
 "cells": [
  {
   "cell_type": "markdown",
   "metadata": {},
   "source": [
    "# Python Advance Programming Assignment\n",
    "## Assignment_9"
   ]
  },
  {
   "cell_type": "markdown",
   "metadata": {},
   "source": [
    "### 2. We needs your help to construct a building which will be a pile of n cubes.\n",
    "### The cube at the bottom will have a volume of n^3, the cube above will have volume of (n-1)^3 and so on until the top which will have a volume of 1^3. Given the total volume m of the building, can you find the number of cubes n required for the building?\n",
    "### In other words, you have to return an integer n such that:\n",
    "### n^3 + (n-1)^3 + ... + 1^3 == m\n",
    "### Return None if there is no such number."
   ]
  },
  {
   "cell_type": "code",
   "execution_count": 3,
   "metadata": {},
   "outputs": [
    {
     "name": "stdout",
     "output_type": "stream",
     "text": [
      "45\n",
      "2022\n",
      "None\n"
     ]
    }
   ],
   "source": [
    "import math\n",
    "\n",
    "def pile_of_cubes(m):\n",
    "    # Use float since math.sqrt is wrong for big integers.\n",
    "    target = int(math.sqrt(2 * (math.sqrt( 1.0 * m))))\n",
    "    # or target = int(1.4142135623730951 * m ** 0.25)\n",
    "\n",
    "    if (target * (target + 1) // 2) * (target * (target + 1) // 2) == m:\n",
    "        return target\n",
    "    else:\n",
    "        return None\n",
    "\n",
    "print(pile_of_cubes(1071225))\n",
    "print(pile_of_cubes(4183059834009))\n",
    "print(pile_of_cubes(16))"
   ]
  },
  {
   "cell_type": "markdown",
   "metadata": {},
   "source": [
    "### 3. A fulcrum of a list is an integer such that all elements to the left of it and all elements to the right of it sum to the same value. Write a function that finds the fulcrum of a list."
   ]
  },
  {
   "cell_type": "code",
   "execution_count": 9,
   "metadata": {},
   "outputs": [
    {
     "name": "stdout",
     "output_type": "stream",
     "text": [
      "2\n",
      "4\n",
      "0\n",
      "-1\n"
     ]
    }
   ],
   "source": [
    "def find_fulcrum(arr) :\n",
    "    n = len(arr)\n",
    "    prefixSum = [0] * n\n",
    "    prefixSum[0] = arr[0]\n",
    "    for i in range(1, n) :\n",
    "        prefixSum[i] = prefixSum[i - 1] + arr[i]\n",
    " \n",
    "    suffixSum = [0] * n\n",
    "    suffixSum[n - 1] = arr[n - 1]\n",
    "    for i in range(n - 2, -1, -1) :\n",
    "        suffixSum[i] = suffixSum[i + 1] + arr[i]\n",
    " \n",
    "    for i in range(1, n - 1, 1) :\n",
    "        if prefixSum[i] == suffixSum[i] :\n",
    "            return arr[i]\n",
    "         \n",
    "    return -1\n",
    " \n",
    "print(find_fulcrum([3, 1, 5, 2, 4, 6, -1]))\n",
    "print(find_fulcrum([1, 2, 4, 9, 10, -10, -9, 3]))\n",
    "print(find_fulcrum([7, -1, 0, -1, 1, 1, 2, 3]))\n",
    "print(find_fulcrum([8, 8, 8, 8]))"
   ]
  },
  {
   "cell_type": "markdown",
   "metadata": {},
   "source": [
    "### 4. Given a list of integers representing the color of each sock, determine how many pairs of socks with matching colors there are. For example, there are 7 socks with colors [1, 2, 1, 2, 1, 3, 2]. There is one pair of color 1 and one of color 2. There are three odd socks left, one of each color. The number of pairs is 2.\n",
    "### Create a function that returns an integer representing the number of matching pairs of socks that are available."
   ]
  },
  {
   "cell_type": "code",
   "execution_count": 14,
   "metadata": {},
   "outputs": [
    {
     "name": "stdout",
     "output_type": "stream",
     "text": [
      "3\n",
      "4\n",
      "0\n"
     ]
    }
   ],
   "source": [
    "from collections import defaultdict\n",
    " \n",
    "def sock_merchant(ar):\n",
    "    d = defaultdict(int)\n",
    " \n",
    "    for k in ar:\n",
    "        d[k] += 1\n",
    "         \n",
    "    cnt = 0\n",
    "    for ele in d.values():\n",
    "        cnt += ele // 2\n",
    "         \n",
    "    return cnt\n",
    "\n",
    "print(sock_merchant([10, 20, 20, 10, 10, 30, 50, 10, 20]))\n",
    "print(sock_merchant([50, 20, 30, 90, 30, 20, 50, 20, 90]))\n",
    "print(sock_merchant([]))"
   ]
  },
  {
   "cell_type": "markdown",
   "metadata": {},
   "source": [
    "### 5. Create a function that takes a string containing integers as well as other characters and return the sum of the negative integers only."
   ]
  },
  {
   "cell_type": "code",
   "execution_count": 44,
   "metadata": {},
   "outputs": [
    {
     "name": "stdout",
     "output_type": "stream",
     "text": [
      "-23\n",
      "-33\n"
     ]
    }
   ],
   "source": [
    "def negative_sum(test_list):\n",
    "\n",
    "    res_list = []\n",
    "    for i in range(0, len(test_list)) :\n",
    "        if test_list[i] == '-' :\n",
    "            res_list.append(int(i))\n",
    "\n",
    "    neg_int = []\n",
    "    for i in res_list:\n",
    "        #i_int = int(i)\n",
    "        inte = test_list[i:i+3]\n",
    "        neg_int.append(int(inte))\n",
    "\n",
    "    count = 0\n",
    "    for i in neg_int:\n",
    "        count = count+i\n",
    "    \n",
    "    return(count)    \n",
    "  \n",
    "print(negative_sum(\"-12 13%14&-11\"))\n",
    "print(negative_sum(\"22 13%14&-11-22 13 12\"))"
   ]
  }
 ],
 "metadata": {
  "kernelspec": {
   "display_name": "Python 3",
   "language": "python",
   "name": "python3"
  },
  "language_info": {
   "codemirror_mode": {
    "name": "ipython",
    "version": 3
   },
   "file_extension": ".py",
   "mimetype": "text/x-python",
   "name": "python",
   "nbconvert_exporter": "python",
   "pygments_lexer": "ipython3",
   "version": "3.7.6"
  }
 },
 "nbformat": 4,
 "nbformat_minor": 4
}
