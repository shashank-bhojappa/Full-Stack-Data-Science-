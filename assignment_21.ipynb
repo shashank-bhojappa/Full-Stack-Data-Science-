{
 "cells": [
  {
   "cell_type": "markdown",
   "metadata": {},
   "source": [
    "# Python Basic Assignment\n",
    "## Assignment_21"
   ]
  },
  {
   "cell_type": "markdown",
   "metadata": {},
   "source": [
    "### 1. Add the current date to the text file today.txt as a string."
   ]
  },
  {
   "cell_type": "code",
   "execution_count": 3,
   "metadata": {},
   "outputs": [],
   "source": [
    "import datetime\n",
    "\n",
    "with open(\"today.txt\", mode='w') as file:\n",
    "    file.write(str(datetime.datetime.now()))"
   ]
  },
  {
   "cell_type": "code",
   "execution_count": 6,
   "metadata": {},
   "outputs": [],
   "source": [
    "from datetime import date\n",
    "\n",
    "with open(\"today.txt\", mode='w') as file:\n",
    "    file.write(str(date.today()))"
   ]
  },
  {
   "cell_type": "markdown",
   "metadata": {},
   "source": [
    "### 2. Read the text file today.txt into the string today_string"
   ]
  },
  {
   "cell_type": "code",
   "execution_count": 8,
   "metadata": {},
   "outputs": [],
   "source": [
    "today_string = open(\"today.txt\",\"r\")"
   ]
  },
  {
   "cell_type": "markdown",
   "metadata": {},
   "source": [
    "### 3. Parse the date from today_string."
   ]
  },
  {
   "cell_type": "code",
   "execution_count": 10,
   "metadata": {},
   "outputs": [
    {
     "data": {
      "text/plain": [
       "'2021-04-30'"
      ]
     },
     "execution_count": 10,
     "metadata": {},
     "output_type": "execute_result"
    }
   ],
   "source": [
    "today_string.read()"
   ]
  },
  {
   "cell_type": "markdown",
   "metadata": {},
   "source": [
    "### 4. List the files in your current directory"
   ]
  },
  {
   "cell_type": "code",
   "execution_count": 11,
   "metadata": {},
   "outputs": [
    {
     "data": {
      "text/plain": [
       "['.ipynb_checkpoints',\n",
       " 'advance_assignment',\n",
       " 'assignment_1.ipynb',\n",
       " 'assignment_10.ipynb',\n",
       " 'assignment_11.ipynb',\n",
       " 'assignment_12.ipynb',\n",
       " 'assignment_13.ipynb',\n",
       " 'assignment_14.ipynb',\n",
       " 'assignment_15.ipynb',\n",
       " 'assignment_16.ipynb',\n",
       " 'assignment_17.ipynb',\n",
       " 'assignment_18.ipynb',\n",
       " 'assignment_19.ipynb',\n",
       " 'assignment_2.ipynb',\n",
       " 'assignment_20.ipynb',\n",
       " 'assignment_21.ipynb',\n",
       " 'assignment_3.ipynb',\n",
       " 'assignment_4.ipynb',\n",
       " 'assignment_5.ipynb',\n",
       " 'assignment_6.ipynb',\n",
       " 'assignment_8.ipynb',\n",
       " 'assignment_9.ipynb',\n",
       " 'book',\n",
       " 'books.csv',\n",
       " 'car.png',\n",
       " 'programming_assignment',\n",
       " 'test.txt',\n",
       " 'today.txt',\n",
       " 'Untitled.ipynb',\n",
       " 'zoo.py',\n",
       " '__pycache__']"
      ]
     },
     "execution_count": 11,
     "metadata": {},
     "output_type": "execute_result"
    }
   ],
   "source": [
    "import os\n",
    "\n",
    "os.listdir()"
   ]
  },
  {
   "cell_type": "markdown",
   "metadata": {},
   "source": [
    "### 5. Create a list of all of the files in your parent directory"
   ]
  },
  {
   "cell_type": "code",
   "execution_count": 16,
   "metadata": {},
   "outputs": [
    {
     "data": {
      "text/plain": [
       "['.ipynb_checkpoints',\n",
       " 'Assignment',\n",
       " 'assignments',\n",
       " 'Assignment_test',\n",
       " 'class_task',\n",
       " 'datasetModule.py',\n",
       " 'exception_handling.log',\n",
       " 'exception_task',\n",
       " 'logging',\n",
       " 'module_task',\n",
       " 'mod_testing.ipynb',\n",
       " 'New folder',\n",
       " 'Python-notes.ipynb',\n",
       " 'shashank',\n",
       " 'simpleMath.py',\n",
       " 'task',\n",
       " 'test.txt',\n",
       " 'testmodule.py',\n",
       " '__pycache__']"
      ]
     },
     "execution_count": 16,
     "metadata": {},
     "output_type": "execute_result"
    }
   ],
   "source": [
    "list(os.listdir(os.pardir))"
   ]
  },
  {
   "cell_type": "markdown",
   "metadata": {},
   "source": [
    "### 7. Create a date object of your day of birth."
   ]
  },
  {
   "cell_type": "code",
   "execution_count": 30,
   "metadata": {},
   "outputs": [
    {
     "name": "stdout",
     "output_type": "stream",
     "text": [
      "1995-07-06\n"
     ]
    }
   ],
   "source": [
    "date = '06 07 1995'\n",
    "birth_day = datetime.datetime.strptime(date, '%d %m %Y').date()\n",
    "print(birth_day)"
   ]
  },
  {
   "cell_type": "markdown",
   "metadata": {},
   "source": [
    "### 8. What day of the week was your day of birth?"
   ]
  },
  {
   "cell_type": "code",
   "execution_count": 34,
   "metadata": {},
   "outputs": [
    {
     "name": "stdout",
     "output_type": "stream",
     "text": [
      "Thursday\n"
     ]
    }
   ],
   "source": [
    "import datetime\n",
    "import calendar\n",
    "  \n",
    "def findDay(date):\n",
    "    born = datetime.datetime.strptime(date, '%d %m %Y').weekday()\n",
    "    return (calendar.day_name[born])\n",
    "  \n",
    "# Driver program\n",
    "date = '06 07 1995'\n",
    "print(findDay(date))"
   ]
  },
  {
   "cell_type": "markdown",
   "metadata": {},
   "source": [
    "### 9. When will you be (or when were you) 10,000 days old?"
   ]
  },
  {
   "cell_type": "code",
   "execution_count": 53,
   "metadata": {},
   "outputs": [
    {
     "name": "stdout",
     "output_type": "stream",
     "text": [
      "I will be 10000 days old after 749 days\n"
     ]
    }
   ],
   "source": [
    "from datetime import datetime, timedelta\n",
    "particular_date = datetime(1996, 1, 1)\n",
    "new_date = datetime.today() - particular_date\n",
    "days = new_date.days\n",
    "days \n",
    "ten_thousand = 10000\n",
    "\n",
    "if days < ten_thousand:\n",
    "    days_after = ten_thousand - days\n",
    "    print(\"I will be {} days old after {} days\".format(ten_thousand,days_after))\n",
    "else:\n",
    "    days_before = days - ten_thousand\n",
    "    print(\"I was {} days old before {} days\".format(ten_thousand,days_before))"
   ]
  }
 ],
 "metadata": {
  "kernelspec": {
   "display_name": "Python 3",
   "language": "python",
   "name": "python3"
  },
  "language_info": {
   "codemirror_mode": {
    "name": "ipython",
    "version": 3
   },
   "file_extension": ".py",
   "mimetype": "text/x-python",
   "name": "python",
   "nbconvert_exporter": "python",
   "pygments_lexer": "ipython3",
   "version": "3.7.6"
  }
 },
 "nbformat": 4,
 "nbformat_minor": 4
}
