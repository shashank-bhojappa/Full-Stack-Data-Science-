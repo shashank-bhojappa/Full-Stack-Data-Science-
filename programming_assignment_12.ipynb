{
 "cells": [
  {
   "cell_type": "markdown",
   "metadata": {},
   "source": [
    "# Python Basic Programming Assignment\n",
    "## Assignment_12"
   ]
  },
  {
   "cell_type": "markdown",
   "metadata": {},
   "source": [
    "### 1. Write a Python program to Extract Unique values dictionary values?"
   ]
  },
  {
   "cell_type": "code",
   "execution_count": 5,
   "metadata": {},
   "outputs": [
    {
     "name": "stdout",
     "output_type": "stream",
     "text": [
      "The original dictionary is : {'abc': [5, 6, 7, 8], 'efg': [1, 11, 12, 5], 'hijk': [6, 12, 10, 8], 'lmnop': [1, 2, 5]}\n",
      "The unique values list is : [1, 2, 5, 6, 7, 8, 10, 11, 12]\n"
     ]
    }
   ],
   "source": [
    "original_dict = {'abc' : [5, 6, 7, 8],\n",
    "             'efg' : [1, 11, 12, 5],\n",
    "             'hijk' : [6, 12, 10, 8],\n",
    "             'lmnop' : [1, 2, 5]}\n",
    "  \n",
    "# original dictionary\n",
    "print(\"The original dictionary is : \" + str(original_dict))\n",
    "  \n",
    "res = list(sorted({ele for val in original_dict.values() for ele in val}))\n",
    "  \n",
    "# result \n",
    "print(\"The unique values list is : \" + str(res))"
   ]
  },
  {
   "cell_type": "markdown",
   "metadata": {},
   "source": [
    "### 2. Write a Python program to find the sum of all items in a dictionary?"
   ]
  },
  {
   "cell_type": "code",
   "execution_count": 6,
   "metadata": {},
   "outputs": [
    {
     "name": "stdout",
     "output_type": "stream",
     "text": [
      "Sum : 800\n"
     ]
    }
   ],
   "source": [
    "def Sum_val(myDict):\n",
    "      \n",
    "    sum = 0\n",
    "    for i in myDict:\n",
    "        sum = sum + myDict[i]\n",
    "      \n",
    "    return sum\n",
    "  \n",
    "# Driver Function\n",
    "my_dict = {'a': 100, 'b':500, 'c':200}\n",
    "print(\"Sum :\", Sum_val(my_dict))"
   ]
  },
  {
   "cell_type": "markdown",
   "metadata": {},
   "source": [
    "### 3. Write a Python program to Merging two Dictionaries?"
   ]
  },
  {
   "cell_type": "code",
   "execution_count": 11,
   "metadata": {},
   "outputs": [
    {
     "name": "stdout",
     "output_type": "stream",
     "text": [
      "{'a': 10, 'b': 8, 'd': 6, 'c': 4}\n"
     ]
    }
   ],
   "source": [
    "def Merge(dict1, dict2):\n",
    "    res = {**dict1, **dict2}\n",
    "    return res\n",
    "     \n",
    "# Driver code\n",
    "dict1 = {'a': 10, 'b': 8}\n",
    "dict2 = {'d': 6, 'c': 4}\n",
    "dict3 = Merge(dict1, dict2)\n",
    "print(dict3)"
   ]
  },
  {
   "cell_type": "markdown",
   "metadata": {},
   "source": [
    "### 4. Write a Python program to convert key-values list to flat dictionary?"
   ]
  },
  {
   "cell_type": "code",
   "execution_count": 15,
   "metadata": {},
   "outputs": [
    {
     "name": "stdout",
     "output_type": "stream",
     "text": [
      "Original dictionary: {'month': [1, 2, 3], 'name': ['Jan', 'Feb', 'March']}\n",
      "Flattened dictionary: {1: 'Jan', 2: 'Feb', 3: 'March'}\n"
     ]
    }
   ],
   "source": [
    "test_dict = {'month' : [1, 2, 3],\n",
    "             'name' : ['Jan', 'Feb', 'March']}\n",
    "  \n",
    "#original dictionary\n",
    "print(\"Original dictionary: \" + str(test_dict))\n",
    "\n",
    "res = dict(zip(test_dict['month'], test_dict['name']))\n",
    "  \n",
    "# result \n",
    "print(\"Flattened dictionary: \" + str(res))"
   ]
  },
  {
   "cell_type": "markdown",
   "metadata": {},
   "source": [
    "### 5. Write a Python program to insertion at the beginning in OrderedDict?"
   ]
  },
  {
   "cell_type": "code",
   "execution_count": 19,
   "metadata": {},
   "outputs": [
    {
     "name": "stdout",
     "output_type": "stream",
     "text": [
      "Resultant Dictionary : OrderedDict([('key3', '3'), ('key1', '1'), ('key2', '2')])\n"
     ]
    }
   ],
   "source": [
    "from collections import OrderedDict\n",
    "  \n",
    "#ordered_dict\n",
    "initordered_dict = OrderedDict([('key1', '1'), ('key2', '2')])\n",
    "  \n",
    "# inserting items in starting of dict \n",
    "initordered_dict.update({'key3':'3'})\n",
    "initordered_dict.move_to_end('key3', last = False)\n",
    "  \n",
    "# print result\n",
    "print (\"Resultant Dictionary : \"+str(initordered_dict))"
   ]
  },
  {
   "cell_type": "markdown",
   "metadata": {},
   "source": [
    "### 6. Write a Python program to check order of character in string using OrderedDict()?"
   ]
  },
  {
   "cell_type": "code",
   "execution_count": 30,
   "metadata": {},
   "outputs": [
    {
     "name": "stdout",
     "output_type": "stream",
     "text": [
      "true\n"
     ]
    }
   ],
   "source": [
    "from collections import OrderedDict \n",
    "  \n",
    "def checkOrder(input, pattern):  \n",
    "    dict = OrderedDict.fromkeys(input)  \n",
    "    ptrlen = 0\n",
    "    for key,value in dict.items(): \n",
    "        if (key == pattern[ptrlen]): \n",
    "            ptrlen = ptrlen + 1\n",
    "           \n",
    "        if (ptrlen == (len(pattern))): \n",
    "            return 'true'\n",
    " \n",
    "    return 'false'\n",
    "   \n",
    "input = 'python programming'\n",
    "pattern = 'pytn'\n",
    "print (checkOrder(input,pattern)) "
   ]
  },
  {
   "cell_type": "markdown",
   "metadata": {},
   "source": [
    "### 7. Write a Python program to sort Python Dictionaries by Key or Value?"
   ]
  },
  {
   "cell_type": "code",
   "execution_count": 45,
   "metadata": {},
   "outputs": [
    {
     "name": "stdout",
     "output_type": "stream",
     "text": [
      "Keys are \n",
      "key1 key2 key3 key4 key5 \n",
      "\n",
      "Values are\n",
      "1 2 3 4 5 "
     ]
    }
   ],
   "source": [
    "def dictionairy(): \n",
    "       \n",
    "    key_value ={'key1':1,'key2':2,'key3':3,'key4':4,'key5':5} \n",
    "\n",
    "    print (\"Keys are \")\n",
    "\n",
    "    for i in sorted (key_value.keys()) : \n",
    "     print(i, end = \" \")\n",
    "    \n",
    "    print('\\n')\n",
    "    print('Values are')\n",
    "    \n",
    "    for i in sorted (key_value.values()) : \n",
    "     print(i, end = \" \")\n",
    "  \n",
    "dictionairy()             \n",
    "      \n"
   ]
  }
 ],
 "metadata": {
  "kernelspec": {
   "display_name": "Python 3",
   "language": "python",
   "name": "python3"
  },
  "language_info": {
   "codemirror_mode": {
    "name": "ipython",
    "version": 3
   },
   "file_extension": ".py",
   "mimetype": "text/x-python",
   "name": "python",
   "nbconvert_exporter": "python",
   "pygments_lexer": "ipython3",
   "version": "3.7.6"
  }
 },
 "nbformat": 4,
 "nbformat_minor": 4
}
