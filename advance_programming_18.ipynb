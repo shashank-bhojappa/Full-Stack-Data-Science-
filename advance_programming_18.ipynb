{
 "cells": [
  {
   "cell_type": "markdown",
   "metadata": {},
   "source": [
    "# Python Advance Programming Assignment\n",
    "## Assignment_18"
   ]
  },
  {
   "cell_type": "markdown",
   "metadata": {},
   "source": [
    "### 1. A robot has been given a list of movement instructions. Each instruction is either left, right, up or down, followed by a distance to move. The robot starts at [0, 0]. You want to calculate where the robot will end up and return its final position as a list."
   ]
  },
  {
   "cell_type": "code",
   "execution_count": 9,
   "metadata": {},
   "outputs": [
    {
     "name": "stdout",
     "output_type": "stream",
     "text": [
      "(-20, 40)\n",
      "(200, 10500)\n",
      "(0, 0)\n"
     ]
    }
   ],
   "source": [
    "def track_robot(lst):\n",
    "    \n",
    "    move = ''\n",
    "    for i in lst:\n",
    "        split_str = i.split()\n",
    "        word = split_str[0]\n",
    "        num = int(split_str[1])\n",
    "        \n",
    "        if word == 'right':\n",
    "            move = move + 'R'*num\n",
    "        elif word == 'left':\n",
    "            move = move + 'L'*num\n",
    "        elif word == 'up':\n",
    "            move = move + 'U'*num\n",
    "        elif word == 'down':\n",
    "            move = move + 'D'*num\n",
    " \n",
    " \n",
    "    l = len(move)\n",
    "    countUp, countDown = 0, 0\n",
    "    countLeft, countRight = 0, 0\n",
    " \n",
    "    for i in range(l):\n",
    "        if (move[i] == 'U'):\n",
    "            countUp += 1\n",
    " \n",
    "        elif(move[i] == 'D'):\n",
    "            countDown += 1\n",
    " \n",
    "        elif(move[i] == 'L'):\n",
    "            countLeft += 1\n",
    " \n",
    "        elif(move[i] == 'R'):\n",
    "            countRight += 1\n",
    "\n",
    "    return((countRight - countLeft), (countUp - countDown))\n",
    " \n",
    " \n",
    "print(track_robot([\"right 10\", \"up 50\", \"left 30\", \"down 10\"]))\n",
    "print(track_robot([\"right 100\", \"right 100\", \"up 500\", \"up 10000\"]))\n",
    "print(track_robot([]))"
   ]
  },
  {
   "cell_type": "markdown",
   "metadata": {},
   "source": [
    "### 2. Write a function that will return the longest word in a sentence. In cases where more than one word is found, return the first one."
   ]
  },
  {
   "cell_type": "code",
   "execution_count": 41,
   "metadata": {},
   "outputs": [],
   "source": [
    "def find_longest(str):\n",
    "    words = str.split()\n",
    "    counter = 0\n",
    "    long = \"\"\n",
    "    for i in words:\n",
    "        i_low = i.lower()\n",
    "        len_word = len(i_low)\n",
    "        if len_word > counter:\n",
    "            counter = len_word\n",
    "            long = i_low\n",
    "            #print(i)\n",
    "    return(long)"
   ]
  },
  {
   "cell_type": "code",
   "execution_count": 42,
   "metadata": {},
   "outputs": [
    {
     "name": "stdout",
     "output_type": "stream",
     "text": [
      "forever\n",
      "forgetfulness\n"
     ]
    }
   ],
   "source": [
    "print(find_longest(\"A thing of beauty is a joy forever\"))\n",
    "print(find_longest(\"Forgetfulness is by all means powerless!\"))"
   ]
  },
  {
   "cell_type": "markdown",
   "metadata": {},
   "source": [
    "### 4. Write a function that divides a list into chunks of size n, where n is the length of each chunk."
   ]
  },
  {
   "cell_type": "code",
   "execution_count": 48,
   "metadata": {},
   "outputs": [],
   "source": [
    "def chunkify(l,n):\n",
    "    x = [l[i:i + n] for i in range(0, len(l), n)] \n",
    "    return(x)"
   ]
  },
  {
   "cell_type": "code",
   "execution_count": 51,
   "metadata": {},
   "outputs": [
    {
     "name": "stdout",
     "output_type": "stream",
     "text": [
      "[[1, 2], [3, 4], [5, 6], [7, 8], [9]]\n",
      "[[2, 3], [4, 5]]\n",
      "[[2, 3], [4, 5], [6]]\n",
      "[[2, 3, 4], [5, 6, 7]]\n",
      "[[2, 3, 4, 5, 6, 7]]\n"
     ]
    }
   ],
   "source": [
    "print(chunkify([1, 2, 3, 4, 5, 6, 7, 8, 9],2))\n",
    "print(chunkify([2, 3, 4, 5], 2))\n",
    "print(chunkify([2, 3, 4, 5, 6], 2))\n",
    "print(chunkify([2, 3, 4, 5, 6, 7], 3))\n",
    "print(chunkify([2, 3, 4, 5, 6, 7], 7))"
   ]
  },
  {
   "cell_type": "markdown",
   "metadata": {},
   "source": [
    "### 5. You are given a list of strings consisting of grocery items, with prices in parentheses. Return a list of prices in float format."
   ]
  },
  {
   "cell_type": "code",
   "execution_count": 91,
   "metadata": {},
   "outputs": [
    {
     "name": "stdout",
     "output_type": "stream",
     "text": [
      "['1.99', '5.99', '0.75']\n",
      "['5.99', '0.20', '8.50', '1.99']\n"
     ]
    }
   ],
   "source": [
    "import re\n",
    "def get_prices(lst):\n",
    "    money = []\n",
    "    for i in lst:\n",
    "        mon = re.findall(\"[$][0-9].[0-9]+\",i)\n",
    "        mon_spl = mon[0][1:]\n",
    "        money.append(mon_spl)\n",
    "    return money\n",
    "\n",
    "print(get_prices([ \"artichokes ($1.99)\", \"rotiserrie chicken ($5.99)\", \"gum ($0.75)\" ]))\n",
    "print(get_prices([ \"ice cream ($5.99)\",\"banana ($0.20)\", \"sandwich ($8.50)\", \"soup ($1.99)\" ]))"
   ]
  }
 ],
 "metadata": {
  "kernelspec": {
   "display_name": "Python 3",
   "language": "python",
   "name": "python3"
  },
  "language_info": {
   "codemirror_mode": {
    "name": "ipython",
    "version": 3
   },
   "file_extension": ".py",
   "mimetype": "text/x-python",
   "name": "python",
   "nbconvert_exporter": "python",
   "pygments_lexer": "ipython3",
   "version": "3.7.6"
  }
 },
 "nbformat": 4,
 "nbformat_minor": 4
}
