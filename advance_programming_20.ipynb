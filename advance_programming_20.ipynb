{
 "cells": [
  {
   "cell_type": "markdown",
   "metadata": {},
   "source": [
    "# Python Advance Programming Assignment\n",
    "## Assignment_20"
   ]
  },
  {
   "cell_type": "markdown",
   "metadata": {},
   "source": [
    "### 1. Create a function based on the input and output. Look at the examples, there is a pattern."
   ]
  },
  {
   "cell_type": "code",
   "execution_count": 23,
   "metadata": {},
   "outputs": [
    {
     "name": "stdout",
     "output_type": "stream",
     "text": [
      "<p class='one two three'></p>\n",
      "<p class='one'></p>\n",
      "<p class='four five'></p>\n"
     ]
    }
   ],
   "source": [
    "def secret(str):\n",
    "    str_split = str.split('.')\n",
    "    others = []\n",
    "    \n",
    "    for i in str_split:\n",
    "        if i == str[0]:\n",
    "            pass\n",
    "        else:\n",
    "            others.append(i)\n",
    "            \n",
    "    join_oth = ' '.join(others)\n",
    "    str_line = \"<\"+str[0]+\" \"+\"class=\"+\"'\"+join_oth+\"'\"+\"></\"+str[0]+\">\"\n",
    "    return(str_line)\n",
    "\n",
    "print(secret(\"p.one.two.three\"))\n",
    "print(secret(\"p.one\"))\n",
    "print(secret(\"p.four.five\"))"
   ]
  },
  {
   "cell_type": "markdown",
   "metadata": {},
   "source": [
    "### 3. Write a method that accepts two integer parameters rows and cols. The output is a 2d array of numbers displayed in column-major order, meaning the numbers shown increase sequentially down each column and wrap to the top of the next column to the right once the bottom of the current column is reached."
   ]
  },
  {
   "cell_type": "code",
   "execution_count": 91,
   "metadata": {},
   "outputs": [
    {
     "name": "stdout",
     "output_type": "stream",
     "text": [
      "[[1, 4, 7, 10, 13, 16], [2, 5, 8, 11, 14, 17], [3, 6, 9, 12, 15, 18]]\n",
      "[[1, 6, 11], [2, 7, 12], [3, 8, 13], [4, 9, 14], [5, 10, 15]]\n",
      "[[1], [2], [3], [4]]\n"
     ]
    }
   ],
   "source": [
    "def multiplication_table(n,m):\n",
    "    table_list =[]\n",
    "    count = 1\n",
    "    for i in range(1,n+1):\n",
    "        single_tables = []\n",
    "        for j in range(0,m): \n",
    "            if j == 0:\n",
    "                count_row = i\n",
    "                single_tables.append(count_row)\n",
    "            else:\n",
    "                count = count + n\n",
    "                single_tables.append(count)\n",
    "        table_list.append(single_tables)\n",
    "        count = i+1\n",
    "    return table_list\n",
    "\n",
    "print(multiplication_table(3,6))\n",
    "print(multiplication_table(5,3))\n",
    "print(multiplication_table(4,1))"
   ]
  },
  {
   "cell_type": "markdown",
   "metadata": {},
   "source": [
    "### 4. Given a list of integers, return the smallest positive integer not present in the list."
   ]
  },
  {
   "cell_type": "code",
   "execution_count": 141,
   "metadata": {},
   "outputs": [],
   "source": [
    "def min_miss_pos(lst):\n",
    "    lst.sort()\n",
    "    first_range = lst[0]\n",
    "    last_range = lst[-1]+1\n",
    "    \n",
    "    org_lst = []\n",
    "    for i in range(first_range,last_range):\n",
    "       org_lst.append(i)\n",
    "\n",
    "    miss_list = []\n",
    "    for i in org_lst:\n",
    "        if i not in lst:\n",
    "            if i > 0:\n",
    "                miss_list.append(i)\n",
    "    return(min(miss_list))\n",
    "    "
   ]
  },
  {
   "cell_type": "code",
   "execution_count": 143,
   "metadata": {},
   "outputs": [
    {
     "name": "stdout",
     "output_type": "stream",
     "text": [
      "8\n",
      "2\n",
      "1\n"
     ]
    }
   ],
   "source": [
    "print(min_miss_pos([-2, 6, 4, 5, 7, -1, 1, 3, 6, -2, 9, 10, 2, 2]))\n",
    "print(min_miss_pos([5, 9, -2, 0, 1, 3, 9, 3, 8, 9]))\n",
    "print(min_miss_pos([0, 4, 4, -1, 9, 4, 5, 2, 10, 7, 6, 3, 10, 9]))"
   ]
  }
 ],
 "metadata": {
  "kernelspec": {
   "display_name": "Python 3",
   "language": "python",
   "name": "python3"
  },
  "language_info": {
   "codemirror_mode": {
    "name": "ipython",
    "version": 3
   },
   "file_extension": ".py",
   "mimetype": "text/x-python",
   "name": "python",
   "nbconvert_exporter": "python",
   "pygments_lexer": "ipython3",
   "version": "3.7.6"
  }
 },
 "nbformat": 4,
 "nbformat_minor": 4
}
