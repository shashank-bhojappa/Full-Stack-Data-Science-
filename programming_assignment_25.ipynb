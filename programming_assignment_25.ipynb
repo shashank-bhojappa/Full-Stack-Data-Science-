{
 "cells": [
  {
   "cell_type": "markdown",
   "metadata": {},
   "source": [
    "# Python Basic Programming Assignment\n",
    "## Assignment_25"
   ]
  },
  {
   "cell_type": "markdown",
   "metadata": {},
   "source": [
    "### Question1\n",
    "### Create a function that takes three integer arguments (a, b, c) and returns the amount of integers which are of equal value."
   ]
  },
  {
   "cell_type": "code",
   "execution_count": 4,
   "metadata": {},
   "outputs": [],
   "source": [
    "def equal(a,b,c):\n",
    "    if a==b==c:\n",
    "        return(\"3\")\n",
    "    elif a==b:\n",
    "        return(\"2\")\n",
    "    elif a==c:\n",
    "        return(\"2\")\n",
    "    elif b==c:\n",
    "        return(\"2\")\n",
    "    else:\n",
    "        return(\"0\")"
   ]
  },
  {
   "cell_type": "code",
   "execution_count": 5,
   "metadata": {},
   "outputs": [
    {
     "name": "stdout",
     "output_type": "stream",
     "text": [
      "2\n",
      "3\n",
      "0\n",
      "2\n"
     ]
    }
   ],
   "source": [
    "print(equal(3,4,3))\n",
    "print(equal(1,1,1))\n",
    "print(equal(3,4,1))\n",
    "print(equal(3,4,4))"
   ]
  },
  {
   "cell_type": "markdown",
   "metadata": {},
   "source": [
    "### Question2\n",
    "### Write a function that converts a dictionary into a list of keys-values tuples."
   ]
  },
  {
   "cell_type": "code",
   "execution_count": 30,
   "metadata": {},
   "outputs": [],
   "source": [
    "def dict_to_list(di):\n",
    "    return [i for i in di.items()]"
   ]
  },
  {
   "cell_type": "code",
   "execution_count": 32,
   "metadata": {},
   "outputs": [
    {
     "data": {
      "text/plain": [
       "[('D', 1), ('B', 2), ('C', 3)]"
      ]
     },
     "execution_count": 32,
     "metadata": {},
     "output_type": "execute_result"
    }
   ],
   "source": [
    "dict_to_list({\"D\":1,\"B\":2,\"C\":3})"
   ]
  },
  {
   "cell_type": "markdown",
   "metadata": {},
   "source": [
    "### Question3\n",
    "### Write a function that creates a dictionary with each (key, value) pair being the (lower case, upper case) versions of a letter, respectively."
   ]
  },
  {
   "cell_type": "code",
   "execution_count": 35,
   "metadata": {},
   "outputs": [],
   "source": [
    "def mapping(lst):\n",
    "    di = {}\n",
    "    for i in range(len(lst)):\n",
    "        ele = lst[i]\n",
    "        caps = ele.upper()\n",
    "        di[ele]=caps\n",
    "    return di\n",
    "    "
   ]
  },
  {
   "cell_type": "code",
   "execution_count": 37,
   "metadata": {},
   "outputs": [
    {
     "data": {
      "text/plain": [
       "{'a': 'A', 'b': 'B', 'c': 'C'}"
      ]
     },
     "execution_count": 37,
     "metadata": {},
     "output_type": "execute_result"
    }
   ],
   "source": [
    "mapping([\"a\",\"b\",\"c\"])"
   ]
  },
  {
   "cell_type": "markdown",
   "metadata": {},
   "source": [
    "### Question4\n",
    "### Write a function, that replaces all vowels in a string with a specified vowel."
   ]
  },
  {
   "cell_type": "code",
   "execution_count": 39,
   "metadata": {},
   "outputs": [
    {
     "data": {
      "text/plain": [
       "'upplus und bununus'"
      ]
     },
     "execution_count": 39,
     "metadata": {},
     "output_type": "execute_result"
    }
   ],
   "source": [
    "def vow_replace(test_str, K):\n",
    "    vowels = 'AEIOUaeiou'\n",
    "    \n",
    "    for ele in vowels:\n",
    "        test_str = test_str.replace(ele, K)\n",
    "  \n",
    "    return test_str\n",
    "\n",
    "vow_replace(\"apples and bananas\", \"u\")"
   ]
  },
  {
   "cell_type": "markdown",
   "metadata": {},
   "source": [
    "### Question5\n",
    "### Create a function that takes a string as input and capitalizes a letter if its ASCII code is even and returns its lower case version if its ASCII code is odd."
   ]
  },
  {
   "cell_type": "code",
   "execution_count": 48,
   "metadata": {},
   "outputs": [],
   "source": [
    "def ascii_capitalize(sen):\n",
    "    alphabets = []\n",
    "    for i in sen:\n",
    "        for j in i:\n",
    "            asci = ord(j)\n",
    "            if asci%2==0:\n",
    "                even_caps = j.upper()\n",
    "                alphabets.append(even_caps)\n",
    "            else:\n",
    "                odd_lower = j.lower()\n",
    "                alphabets.append(odd_lower)\n",
    "    asci_list = \"\".join(alphabets)\n",
    "    return asci_list"
   ]
  },
  {
   "cell_type": "code",
   "execution_count": 50,
   "metadata": {},
   "outputs": [
    {
     "name": "stdout",
     "output_type": "stream",
     "text": [
      "To Be oR NoT To Be!\n",
      "oH wHaT a BeauTiFuL moRNiNg.\n"
     ]
    }
   ],
   "source": [
    "print(ascii_capitalize(\"to be or not to be!\"))\n",
    "print(ascii_capitalize(\"Oh what a beautiful morning.\"))"
   ]
  }
 ],
 "metadata": {
  "kernelspec": {
   "display_name": "Python 3",
   "language": "python",
   "name": "python3"
  },
  "language_info": {
   "codemirror_mode": {
    "name": "ipython",
    "version": 3
   },
   "file_extension": ".py",
   "mimetype": "text/x-python",
   "name": "python",
   "nbconvert_exporter": "python",
   "pygments_lexer": "ipython3",
   "version": "3.7.6"
  }
 },
 "nbformat": 4,
 "nbformat_minor": 4
}
