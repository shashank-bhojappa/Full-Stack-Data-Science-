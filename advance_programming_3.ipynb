{
 "cells": [
  {
   "cell_type": "markdown",
   "metadata": {},
   "source": [
    "# Python Advance Programming Assignment\n",
    "## Assignment_3"
   ]
  },
  {
   "cell_type": "markdown",
   "metadata": {},
   "source": [
    "### 1. Create a function to perform basic arithmetic operations that includes addition, subtraction, multiplication and division on a string number (e.g. &quot;12 + 24&quot; or &quot;23 - 21&quot; or &quot;12 // 12&quot; or &quot;12 * 21&quot;)."
   ]
  },
  {
   "cell_type": "code",
   "execution_count": 15,
   "metadata": {},
   "outputs": [],
   "source": [
    "def arithmetic_operation(str):\n",
    "    a = str.split()[0]\n",
    "    b = str.split()[2]\n",
    "    op = str.split()[1]\n",
    "    \n",
    "    int_a = int(a)\n",
    "    int_b = int(b)\n",
    "    \n",
    "    if op == \"+\":\n",
    "        return int_a + int_b\n",
    "    elif op == \"-\":\n",
    "        return int_a - int_b\n",
    "    elif op == \"//\":\n",
    "        if int_b == 0:\n",
    "            return -1\n",
    "        else:\n",
    "            return int_a / int_b\n",
    "    elif op == '*':\n",
    "        return int_a * int_b"
   ]
  },
  {
   "cell_type": "code",
   "execution_count": 18,
   "metadata": {},
   "outputs": [
    {
     "name": "stdout",
     "output_type": "stream",
     "text": [
      "24\n",
      "0\n",
      "144\n",
      "-1\n"
     ]
    }
   ],
   "source": [
    "print(arithmetic_operation(\"12 + 12\"))\n",
    "print(arithmetic_operation(\"12 - 12\"))\n",
    "print(arithmetic_operation(\"12 * 12\"))\n",
    "print(arithmetic_operation(\"12 // 0\"))"
   ]
  },
  {
   "cell_type": "code",
   "execution_count": 1,
   "metadata": {},
   "outputs": [
    {
     "data": {
      "text/plain": [
       "'a'"
      ]
     },
     "execution_count": 1,
     "metadata": {},
     "output_type": "execute_result"
    }
   ],
   "source": [
    "s = \"a b c\"\n",
    "g = s.split()[0]\n",
    "g"
   ]
  },
  {
   "cell_type": "markdown",
   "metadata": {},
   "source": [
    "### Create a function that determines whether a number is a Disarium or not."
   ]
  },
  {
   "cell_type": "code",
   "execution_count": 31,
   "metadata": {},
   "outputs": [],
   "source": [
    "def is_disarium(num):\n",
    "    def calculateLength(n):  \n",
    "        length = 0;  \n",
    "        while(n != 0):  \n",
    "            length = length + 1;  \n",
    "            n = n//10;  \n",
    "        return length;  \n",
    "  \n",
    "    rem = sum = 0;  \n",
    "    len = calculateLength(num);  \n",
    "\n",
    "    #Makes a copy of the original number num  \n",
    "    n = num;  \n",
    "\n",
    "    #Calculates the sum of digits powered with their respective position  \n",
    "    while(num > 0):  \n",
    "        rem = num%10;  \n",
    "        sum = sum + int(rem**len);  \n",
    "        num = num//10;  \n",
    "        len = len - 1;  \n",
    "\n",
    "    #Checks whether the sum is equal to the number itself  \n",
    "    if(sum == n):  \n",
    "        print(str(n) + \" is a disarium number\");  \n",
    "    else:  \n",
    "        print(str(n) + \" is not a disarium number\"); "
   ]
  },
  {
   "cell_type": "code",
   "execution_count": 32,
   "metadata": {},
   "outputs": [
    {
     "name": "stdout",
     "output_type": "stream",
     "text": [
      "135 is a disarium number\n"
     ]
    }
   ],
   "source": [
    "is_disarium(135)"
   ]
  }
 ],
 "metadata": {
  "kernelspec": {
   "display_name": "Python 3",
   "language": "python",
   "name": "python3"
  },
  "language_info": {
   "codemirror_mode": {
    "name": "ipython",
    "version": 3
   },
   "file_extension": ".py",
   "mimetype": "text/x-python",
   "name": "python",
   "nbconvert_exporter": "python",
   "pygments_lexer": "ipython3",
   "version": "3.7.6"
  }
 },
 "nbformat": 4,
 "nbformat_minor": 4
}
