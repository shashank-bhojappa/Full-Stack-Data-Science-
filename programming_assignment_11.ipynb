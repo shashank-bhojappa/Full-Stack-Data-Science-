{
 "cells": [
  {
   "cell_type": "markdown",
   "metadata": {},
   "source": [
    "# Python Basic Programming Assignment\n",
    "## Assignment_11"
   ]
  },
  {
   "cell_type": "markdown",
   "metadata": {},
   "source": [
    "### 1. Write a Python program to find words which are greater than given length k?"
   ]
  },
  {
   "cell_type": "code",
   "execution_count": 3,
   "metadata": {},
   "outputs": [
    {
     "name": "stdout",
     "output_type": "stream",
     "text": [
      "['This', 'Python', 'Programming', 'assignment', 'class', 'month', 'april']\n"
     ]
    }
   ],
   "source": [
    "def string_greater(k, str):\n",
    "    string = []\n",
    "      \n",
    "    text = str.split(\" \")\n",
    "    for x in text:\n",
    "          \n",
    "        if len(x) > k:\n",
    "            string.append(x)\n",
    "    return string\n",
    "     \n",
    "k = 3\n",
    "sen =\"This is a Python Programming assignment class in the month of april\"\n",
    "print(string_greater(k, sen)) "
   ]
  },
  {
   "cell_type": "markdown",
   "metadata": {},
   "source": [
    "### 2. Write a Python program for removing i-th character from a string?"
   ]
  },
  {
   "cell_type": "code",
   "execution_count": 5,
   "metadata": {},
   "outputs": [
    {
     "name": "stdout",
     "output_type": "stream",
     "text": [
      "PythoProgramming\n"
     ]
    }
   ],
   "source": [
    "def remove_char(string, i): \n",
    "    a = string[ : i] \n",
    "    b = string[i + 1: ]\n",
    "      \n",
    "    return a + b\n",
    "\n",
    "      \n",
    "word = \"PythonProgramming\"\n",
    "i = 5\n",
    "print(remove_char(word, i))"
   ]
  },
  {
   "cell_type": "markdown",
   "metadata": {},
   "source": [
    "### 3. Write a Python program to split and join a string?"
   ]
  },
  {
   "cell_type": "code",
   "execution_count": 8,
   "metadata": {},
   "outputs": [
    {
     "name": "stdout",
     "output_type": "stream",
     "text": [
      "['This', 'is', 'a', 'Python', 'Programming', 'assignment', 'class', 'in', 'the', 'month', 'of', 'april']\n",
      "This_is_a_Python_Programming_assignment_class_in_the_month_of_april\n"
     ]
    }
   ],
   "source": [
    "def split_string(string):\n",
    "    list_string = string.split(' ')\n",
    "      \n",
    "    return list_string\n",
    "  \n",
    "def join_string(list_string):\n",
    "    string = '_'.join(list_string)\n",
    "      \n",
    "    return string\n",
    "\n",
    "sent = 'This is a Python Programming assignment class in the month of april'\n",
    "list_string = split_string(sent)\n",
    "print(list_string)\n",
    "\n",
    "new_string = join_string(list_string)\n",
    "print(new_string)"
   ]
  },
  {
   "cell_type": "markdown",
   "metadata": {},
   "source": [
    "### 4. Write a Python to check if a given string is binary string or not?"
   ]
  },
  {
   "cell_type": "code",
   "execution_count": 13,
   "metadata": {},
   "outputs": [
    {
     "name": "stdout",
     "output_type": "stream",
     "text": [
      "Yes\n"
     ]
    }
   ],
   "source": [
    "def check(string):\n",
    "    p = set(string)\n",
    "    s = {'0', '1'}\n",
    "    \n",
    "    if s == p or p == {'0'} or p == {'1'}:\n",
    "        print(\"Yes\")\n",
    "    else :\n",
    "        print(\"No\")\n",
    "  \n",
    "sen = \"1110100111\"\n",
    "\n",
    "# function calling\n",
    "check(sen)"
   ]
  },
  {
   "cell_type": "markdown",
   "metadata": {},
   "source": [
    "### 5. Write a Python program to find uncommon words from two Strings?"
   ]
  },
  {
   "cell_type": "code",
   "execution_count": 16,
   "metadata": {},
   "outputs": [
    {
     "name": "stdout",
     "output_type": "stream",
     "text": [
      "['This', 'is', 'a', 'class', 'the', 'month', 'of']\n"
     ]
    }
   ],
   "source": [
    "def UncommonWords(sen1, sen2):\n",
    "    count = {}\n",
    "    for word in sen1.split():\n",
    "        count[word] = count.get(word, 0) + 1\n",
    "      \n",
    "    for word in sen2.split():\n",
    "        count[word] = count.get(word, 0) + 1\n",
    "  \n",
    "    return [word for word in count if count[word] == 1]\n",
    " \n",
    "sen1 = \"Python Programming assignment in april\"\n",
    "sen2 = \"This is a Python Programming assignment class in the month of april\"\n",
    "\n",
    "print(UncommonWords(sen1, sen2))"
   ]
  },
  {
   "cell_type": "markdown",
   "metadata": {},
   "source": [
    "### 6. Write a Python to find all duplicate characters in string?"
   ]
  },
  {
   "cell_type": "code",
   "execution_count": 20,
   "metadata": {},
   "outputs": [
    {
     "name": "stdout",
     "output_type": "stream",
     "text": [
      "Duplicate characters in a given string: \n",
      "P\n",
      "o\n",
      "n\n",
      "r\n",
      "g\n",
      "m\n"
     ]
    }
   ],
   "source": [
    "string = \"Python Programming\";  \n",
    "   \n",
    "print(\"Duplicate characters in a given string: \");  \n",
    "  \n",
    "for i in range(0, len(string)):  \n",
    "    count = 1;  \n",
    "    for j in range(i+1, len(string)):  \n",
    "        if(string[i] == string[j] and string[i] != ' '):  \n",
    "            count = count + 1;    \n",
    "            string = string[:j] + '0' + string[j+1:];  \n",
    "     \n",
    "    if(count > 1 and string[i] != '0'):  \n",
    "        print(string[i]);  "
   ]
  },
  {
   "cell_type": "markdown",
   "metadata": {},
   "source": [
    "### 7. Write a Python Program to check if a string contains any special character?"
   ]
  },
  {
   "cell_type": "code",
   "execution_count": 26,
   "metadata": {},
   "outputs": [
    {
     "name": "stdout",
     "output_type": "stream",
     "text": [
      "String has Special Characters.\n"
     ]
    }
   ],
   "source": [
    "import re\n",
    "\n",
    "def run(words):\n",
    "    regex = re.compile('[@_!#$%^&*()<>?/\\|}{~:]')\n",
    "    \n",
    "    if(regex.search(words) == None):\n",
    "        print(\"String has no Special Characyers\")\n",
    "          \n",
    "    else:\n",
    "        print(\"String has Special Characters.\")\n",
    "\n",
    "        \n",
    "words = \"Python@Programming!!\" \n",
    "run(words)"
   ]
  }
 ],
 "metadata": {
  "kernelspec": {
   "display_name": "Python 3",
   "language": "python",
   "name": "python3"
  },
  "language_info": {
   "codemirror_mode": {
    "name": "ipython",
    "version": 3
   },
   "file_extension": ".py",
   "mimetype": "text/x-python",
   "name": "python",
   "nbconvert_exporter": "python",
   "pygments_lexer": "ipython3",
   "version": "3.7.6"
  }
 },
 "nbformat": 4,
 "nbformat_minor": 4
}
