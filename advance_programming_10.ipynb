{
 "cells": [
  {
   "cell_type": "markdown",
   "metadata": {},
   "source": [
    "# Python Advance Programming Assignment\n",
    "## Assignment_10"
   ]
  },
  {
   "cell_type": "markdown",
   "metadata": {},
   "source": [
    "### 1. Create a function that takes the width, height and character and returns a picture frame as a 2D list."
   ]
  },
  {
   "cell_type": "code",
   "execution_count": 151,
   "metadata": {},
   "outputs": [],
   "source": [
    "def get_frame(rows,cols,symbol):\n",
    "    arr=[]\n",
    "    if cols>2:\n",
    "        for i in range(rows):\n",
    "            col = []\n",
    "            for j in range(cols):\n",
    "                col.append(symbol)\n",
    "            arr.append(col)           \n",
    "    else:\n",
    "        return('Invalid') \n",
    "    return(arr)"
   ]
  },
  {
   "cell_type": "code",
   "execution_count": 153,
   "metadata": {},
   "outputs": [
    {
     "data": {
      "text/plain": [
       "[['#', '#', '#', '#', '#'],\n",
       " ['#', '#', '#', '#', '#'],\n",
       " ['#', '#', '#', '#', '#'],\n",
       " ['#', '#', '#', '#', '#']]"
      ]
     },
     "execution_count": 153,
     "metadata": {},
     "output_type": "execute_result"
    }
   ],
   "source": [
    "get_frame(4,5,'#')"
   ]
  },
  {
   "cell_type": "code",
   "execution_count": 155,
   "metadata": {},
   "outputs": [
    {
     "data": {
      "text/plain": [
       "'Invalid'"
      ]
     },
     "execution_count": 155,
     "metadata": {},
     "output_type": "execute_result"
    }
   ],
   "source": [
    "get_frame(5,2,'#')"
   ]
  },
  {
   "cell_type": "markdown",
   "metadata": {},
   "source": [
    "### 2. Write three functions:\n",
    "1. boolean_and\n",
    "\n",
    "2. boolean_or\n",
    "\n",
    "3. boolean_xor\n",
    "\n",
    "### These functions should evaluate a list of True and False values, starting from the leftmost element and evaluating pairwise."
   ]
  },
  {
   "cell_type": "code",
   "execution_count": 49,
   "metadata": {},
   "outputs": [
    {
     "name": "stdout",
     "output_type": "stream",
     "text": [
      "False\n",
      "True\n",
      "False\n"
     ]
    }
   ],
   "source": [
    "def boolean_and(lst):\n",
    "    for i in range(len(lst)-1):\n",
    "        first = lst[0]\n",
    "        second = lst[1]\n",
    "        res = first and second\n",
    "        lst.pop(0)\n",
    "        lst.pop(0)\n",
    "        lst.insert(0,res)\n",
    "            \n",
    "    return lst[0]\n",
    "\n",
    "\n",
    "def boolean_or(lst):\n",
    "    for i in range(len(lst)-1):\n",
    "        first = lst[0]\n",
    "        second = lst[1]\n",
    "        res = first or second\n",
    "        lst.pop(0)\n",
    "        lst.pop(0)\n",
    "        lst.insert(0,res)\n",
    "            \n",
    "    return lst[0]\n",
    "\n",
    "def boolean_xor(lst):\n",
    "    for i in range(len(lst)-1):\n",
    "        first = lst[0]\n",
    "        second = lst[1]\n",
    "        res = first ^ second\n",
    "        lst.pop(0)\n",
    "        lst.pop(0)\n",
    "        lst.insert(0,res)\n",
    "            \n",
    "    return lst[0]\n",
    "\n",
    "print(boolean_and([True,True,False,True]))\n",
    "print(boolean_or([True, True, False, False]))\n",
    "print(boolean_xor([True, True, False, False]))"
   ]
  },
  {
   "cell_type": "markdown",
   "metadata": {},
   "source": [
    "### 3. Create a function that creates a box based on dimension n."
   ]
  },
  {
   "cell_type": "code",
   "execution_count": 248,
   "metadata": {},
   "outputs": [
    {
     "name": "stdout",
     "output_type": "stream",
     "text": [
      "*******\n",
      "*     *\n",
      "*     *\n",
      "*     *\n",
      "*     *\n",
      "*     *\n",
      "*******\n"
     ]
    }
   ],
   "source": [
    "def make_box(n) :\n",
    "     \n",
    "    for i in range(1, n+1) :\n",
    "        for j in range(1, n+1) :\n",
    "            if (i == 1 or i == n or\n",
    "                j == 1 or j == n) :           \n",
    "                print(\"*\", end = \"\")           \n",
    "            else :\n",
    "                print(\" \", end = \"\")           \n",
    "         \n",
    "        print()\n",
    "         \n",
    "make_box(7)"
   ]
  },
  {
   "cell_type": "markdown",
   "metadata": {},
   "source": [
    "### 4. Given a common phrase, return False if any individual word in the phrase contains duplicate letters. Return True otherwise."
   ]
  },
  {
   "cell_type": "code",
   "execution_count": 247,
   "metadata": {},
   "outputs": [
    {
     "name": "stdout",
     "output_type": "stream",
     "text": [
      "True\n",
      "False\n"
     ]
    }
   ],
   "source": [
    "def no_duplicate_letters(str):\n",
    "    \n",
    "\n",
    "    def uniqueCharacters(word):\n",
    "        for i in range(len(word)):\n",
    "            for j in range(i + 1,len(word)):\n",
    "                if(word[i] == word[j]):\n",
    "                    return False\n",
    "        return True\n",
    "    \n",
    "    def words():\n",
    "        split_word = str.split(\" \")\n",
    "        for i in split_word:\n",
    "            if uniqueCharacters(i) == False:\n",
    "                return False\n",
    "                break\n",
    "            else:\n",
    "                return True\n",
    "    return words()\n",
    "\n",
    "print(no_duplicate_letters(\"You can lead a horse to water, but you can't make him drink.\"))\n",
    "print(no_duplicate_letters(\"Look before you leap.\"))"
   ]
  }
 ],
 "metadata": {
  "kernelspec": {
   "display_name": "Python 3",
   "language": "python",
   "name": "python3"
  },
  "language_info": {
   "codemirror_mode": {
    "name": "ipython",
    "version": 3
   },
   "file_extension": ".py",
   "mimetype": "text/x-python",
   "name": "python",
   "nbconvert_exporter": "python",
   "pygments_lexer": "ipython3",
   "version": "3.7.6"
  }
 },
 "nbformat": 4,
 "nbformat_minor": 4
}
