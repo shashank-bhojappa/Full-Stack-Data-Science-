{
 "cells": [
  {
   "cell_type": "markdown",
   "metadata": {},
   "source": [
    "# Python Basic Programming Assignment\n",
    "## Assignment_22"
   ]
  },
  {
   "cell_type": "markdown",
   "metadata": {},
   "source": [
    "### Question1\n",
    "### Create a function that takes three parameters where:\n",
    "###  x is the start of the range (inclusive).\n",
    "###  y is the end of the range (inclusive).\n",
    "###  n is the divisor to be checked against.\n",
    "### Return an ordered list with numbers in the range that are divisible by the third parameter n.\n",
    "### Return an empty list if there are no numbers that are divisible by n."
   ]
  },
  {
   "cell_type": "code",
   "execution_count": 8,
   "metadata": {},
   "outputs": [
    {
     "data": {
      "text/plain": [
       "[3, 6, 9]"
      ]
     },
     "execution_count": 8,
     "metadata": {},
     "output_type": "execute_result"
    }
   ],
   "source": [
    "def list_operation(start,end,N):\n",
    "     \n",
    "    divisible = []\n",
    "    for num in range(start,end):\n",
    "            if num % N == 0:\n",
    "                divisible.append(num)     \n",
    "            else:\n",
    "                pass\n",
    "    return divisible\n",
    "\n",
    "list_operation(1,10,3)"
   ]
  },
  {
   "cell_type": "markdown",
   "metadata": {},
   "source": [
    "### Question2\n",
    "### Create a function that takes in two lists and returns True if the second list follows the first list by one element, and False otherwise. In other words, determine if the second list is the first list shifted to the right by 1."
   ]
  },
  {
   "cell_type": "code",
   "execution_count": 19,
   "metadata": {},
   "outputs": [
    {
     "name": "stdout",
     "output_type": "stream",
     "text": [
      "True\n",
      "True\n"
     ]
    }
   ],
   "source": [
    "def simon_says(list1, list2):\n",
    "     result = False\n",
    "     for x in list1:\n",
    "         for y in list2:\n",
    "             if x == y:\n",
    "                 result = True\n",
    "                 return result\n",
    "print(simon_says([1, 2], [5, 1]))\n",
    "print(simon_says([1, 2, 3, 4, 5], [0, 1, 2, 3, 4]))"
   ]
  },
  {
   "cell_type": "markdown",
   "metadata": {},
   "source": [
    "### Question3\n",
    "### A group of friends have decided to start a secret society. The name will be the first letter of each of their names, sorted in alphabetical order. Create a function that takes in a list of names and returns the name of the secret society."
   ]
  },
  {
   "cell_type": "code",
   "execution_count": 3,
   "metadata": {},
   "outputs": [],
   "source": [
    "def society_name(lst):\n",
    "    society=''\n",
    "    for i in lst:\n",
    "        alphabet = i[0]\n",
    "        society = society+alphabet\n",
    "    print(society)\n",
    "    "
   ]
  },
  {
   "cell_type": "code",
   "execution_count": 4,
   "metadata": {},
   "outputs": [
    {
     "name": "stdout",
     "output_type": "stream",
     "text": [
      "ASM\n"
     ]
    }
   ],
   "source": [
    "society_name([\"Adam\", \"Sarah\", \"Malcolm\"])"
   ]
  },
  {
   "cell_type": "markdown",
   "metadata": {},
   "source": [
    "### Question4\n",
    "### An isogram is a word that has no duplicate letters. Create a function that takes a string and returns either True or False depending on whether or not it&#39;s an &quot;isogram&quot;."
   ]
  },
  {
   "cell_type": "code",
   "execution_count": 5,
   "metadata": {},
   "outputs": [],
   "source": [
    "def is_isogram(word):\n",
    "  \n",
    "    # Convert the word or sentence in lower case letters.\n",
    "    clean_word = word.lower()\n",
    "  \n",
    "    # Make an empty list to append unique letters\n",
    "    letter_list = []\n",
    "  \n",
    "    for letter in clean_word:\n",
    "  \n",
    "        # If letter is an alphabet then only check\n",
    "        if letter.isalpha():\n",
    "            if letter in letter_list:\n",
    "                return False\n",
    "            letter_list.append(letter)\n",
    "  \n",
    "    return True"
   ]
  },
  {
   "cell_type": "code",
   "execution_count": 9,
   "metadata": {},
   "outputs": [
    {
     "name": "stdout",
     "output_type": "stream",
     "text": [
      "True\n",
      "False\n",
      "False\n"
     ]
    }
   ],
   "source": [
    "print(is_isogram(\"Algorism\"))\n",
    "print(is_isogram(\"PasSword\"))\n",
    "print(is_isogram(\"Consecutive\"))"
   ]
  },
  {
   "cell_type": "markdown",
   "metadata": {},
   "source": [
    "### Question5\n",
    "### Create a function that takes a string and returns True or False, depending on whether the characters are in order or not."
   ]
  },
  {
   "cell_type": "code",
   "execution_count": 17,
   "metadata": {},
   "outputs": [
    {
     "name": "stdout",
     "output_type": "stream",
     "text": [
      "Enter sequence of letters: edabit\n",
      "False\n"
     ]
    }
   ],
   "source": [
    "def is_in_order(s):\n",
    "    n = len(s)\n",
    "    c = [s[i] for i in range(len(s))]\n",
    "    c.sort(reverse = False)\n",
    " \n",
    "    for i in range(n):\n",
    "        if (c[i] != s[i]):\n",
    "            return False\n",
    "         \n",
    "    return True\n",
    " \n",
    "s = input(\"Enter sequence of letters: \")\n",
    "if (isAlphabaticOrder(s)):\n",
    "    print(\"True\")\n",
    "else:\n",
    "    print(\"False\")"
   ]
  }
 ],
 "metadata": {
  "kernelspec": {
   "display_name": "Python 3",
   "language": "python",
   "name": "python3"
  }
 },
 "nbformat": 4,
 "nbformat_minor": 4
}
