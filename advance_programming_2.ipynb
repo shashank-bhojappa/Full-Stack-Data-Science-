{
 "cells": [
  {
   "cell_type": "markdown",
   "metadata": {},
   "source": [
    "# Python Advance Programming Assignment\n",
    "## Assignment_2"
   ]
  },
  {
   "cell_type": "markdown",
   "metadata": {},
   "source": [
    "### 1. Write a function that takes a positive integer num and calculates how many dots exist in a pentagonal shape around the center dot on the Nth iteration."
   ]
  },
  {
   "cell_type": "code",
   "execution_count": 4,
   "metadata": {},
   "outputs": [
    {
     "name": "stdout",
     "output_type": "stream",
     "text": [
      "1\n",
      "6\n",
      "16\n",
      "141\n"
     ]
    }
   ],
   "source": [
    "def pentagonal(n):\n",
    "    return (5 * n * n - 5 * n + 2) // 2\n",
    " \n",
    "print(pentagonal(1))\n",
    "print(pentagonal(2))\n",
    "print(pentagonal(3))\n",
    "print(pentagonal(8))"
   ]
  },
  {
   "cell_type": "markdown",
   "metadata": {},
   "source": [
    "### 2. Make a function that encrypts a given input with these steps:\n",
    "### Input: &quot;apple&quot;\n",
    "### Step 1: Reverse the input: &quot;elppa&quot;\n",
    "### Step 2: Replace all vowels using the following chart:\n",
    "a =&gt; 0\n",
    "\n",
    "e =&gt; 1\n",
    "\n",
    "i =&gt; 2\n",
    "\n",
    "o =&gt; 2\n",
    "\n",
    "u =&gt; 3\n",
    "\n",
    "### Step 3: Add &quot;aca&quot; to the end of the word: &quot;1lpp0aca&quot;"
   ]
  },
  {
   "cell_type": "code",
   "execution_count": 17,
   "metadata": {},
   "outputs": [],
   "source": [
    "def encrypt(str):\n",
    "    rev_str = str[::-1]\n",
    "    \n",
    "    encr = []\n",
    "    for i in rev_str:\n",
    "        if i == 'a':\n",
    "            encr.append('0')\n",
    "        elif i == 'e':\n",
    "            encr.append('1')\n",
    "        elif i == 'i':\n",
    "            encr.append('2')\n",
    "        elif i == 'o':\n",
    "            encr.append('2')\n",
    "        elif i == 'u':\n",
    "            encr.append('3')\n",
    "        else:\n",
    "            encr.append(i)\n",
    "    join_encr = \"\".join(encr)\n",
    "    \n",
    "    add_str = join_encr+\"aca\"\n",
    "    \n",
    "    return add_str\n",
    "        "
   ]
  },
  {
   "cell_type": "code",
   "execution_count": 22,
   "metadata": {},
   "outputs": [
    {
     "name": "stdout",
     "output_type": "stream",
     "text": [
      "1lpp0aca\n",
      "0n0n0baca\n"
     ]
    }
   ],
   "source": [
    "print(encrypt(\"apple\"))\n",
    "print(encrypt('banana'))"
   ]
  },
  {
   "cell_type": "markdown",
   "metadata": {},
   "source": [
    "### 3. Given the month and year as numbers, return whether that month contains a Friday 13th.(i.e You can check Python&#39;s datetime module)"
   ]
  },
  {
   "cell_type": "code",
   "execution_count": 30,
   "metadata": {},
   "outputs": [],
   "source": [
    "import datetime  "
   ]
  },
  {
   "cell_type": "code",
   "execution_count": 31,
   "metadata": {},
   "outputs": [
    {
     "name": "stdout",
     "output_type": "stream",
     "text": [
      "Enter the month & year: 3,2020\n",
      "True\n"
     ]
    }
   ],
   "source": [
    "month, year = input('Enter the month & year: ').split(',')  \n",
    "\n",
    "if datetime.datetime.strptime('13 '+' '+month+' '+year, '%d %m %Y').weekday()==4:\n",
    "    print('True')\n",
    "else:\n",
    "    print('False')"
   ]
  },
  {
   "cell_type": "markdown",
   "metadata": {},
   "source": [
    "### 5. Given a list of words in the singular form, return a set of those words in the plural form if they appear more than once in the list."
   ]
  },
  {
   "cell_type": "code",
   "execution_count": 37,
   "metadata": {},
   "outputs": [],
   "source": [
    "def pluralize(lst):\n",
    "    plu_lst = []\n",
    "    for i in lst:\n",
    "        if lst.count(i)>1:\n",
    "            plu_lst.append(i+'s')\n",
    "        else:\n",
    "            plu_lst.append(i)\n",
    "    new_lst = set(plu_lst)\n",
    "    uniq_lst = list(new_lst)\n",
    "    return uniq_lst\n",
    "            \n",
    "            \n",
    "    "
   ]
  },
  {
   "cell_type": "code",
   "execution_count": 41,
   "metadata": {},
   "outputs": [
    {
     "name": "stdout",
     "output_type": "stream",
     "text": [
      "['dogs', 'pigs', 'cow']\n",
      "['pencil', 'arm', 'chair']\n"
     ]
    }
   ],
   "source": [
    "print(pluralize(['dog','pig','dog','dog','cow','pig']))\n",
    "print(pluralize(['chair','arm','pencil']))"
   ]
  }
 ],
 "metadata": {
  "kernelspec": {
   "display_name": "Python 3",
   "language": "python",
   "name": "python3"
  },
  "language_info": {
   "codemirror_mode": {
    "name": "ipython",
    "version": 3
   },
   "file_extension": ".py",
   "mimetype": "text/x-python",
   "name": "python",
   "nbconvert_exporter": "python",
   "pygments_lexer": "ipython3",
   "version": "3.7.6"
  }
 },
 "nbformat": 4,
 "nbformat_minor": 4
}
