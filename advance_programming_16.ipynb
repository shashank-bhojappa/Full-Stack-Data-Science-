{
 "cells": [
  {
   "cell_type": "markdown",
   "metadata": {},
   "source": [
    "# Python Advance Programming Assignment\n",
    "## Assignment_16"
   ]
  },
  {
   "cell_type": "markdown",
   "metadata": {},
   "source": [
    "### 1. Rondo Form is a type of musical structure, in which there is a recurring theme/refrain, notated as A. Here are the rules for valid rondo forms:\n",
    "### - Rondo forms always start and end with an A section.\n",
    "### - In between the A sections, there should be contrasting sections notated as B, then C, then D, etc... No letter should be skipped.\n",
    "### - There shouldn&#39;t be any repeats in the sequence (such as ABBACCA).\n",
    "### Create a function which validates whether a given string is a valid Rondo Form."
   ]
  },
  {
   "cell_type": "code",
   "execution_count": 5,
   "metadata": {},
   "outputs": [
    {
     "name": "stdout",
     "output_type": "stream",
     "text": [
      "True\n",
      "True\n",
      "False\n",
      "False\n",
      "False\n"
     ]
    }
   ],
   "source": [
    "def valid_rondo(str):\n",
    "    alphabet = 'ABACADAEAFAGAHAIAJAKALAMANAOAPAQARASATAUAVAWAXAYAZA'\n",
    "    len_str = len(str)\n",
    "    final = ''\n",
    "    if len_str>1:\n",
    "        for i in range(0,len(str),1):\n",
    "            if str[i] == 'A':\n",
    "                final = final + str[i]\n",
    "            else:\n",
    "                final = final + str[i]\n",
    "\n",
    "        if str == alphabet[0:len_str]:\n",
    "            return True\n",
    "        else:\n",
    "            return False\n",
    "    else:\n",
    "        return False\n",
    "\n",
    "print(valid_rondo(\"ABACADAEAFAGAHAIAJA\"))\n",
    "print(valid_rondo(\"ABA\"))\n",
    "print(valid_rondo(\"ABBACCA\"))\n",
    "print(valid_rondo(\"ACAC\"))\n",
    "print(valid_rondo(\"A\"))"
   ]
  },
  {
   "cell_type": "markdown",
   "metadata": {},
   "source": [
    "### 2. Create a function that returns the whole of the first sentence which contains a specific word. Include the full stop at the end of the sentence."
   ]
  },
  {
   "cell_type": "code",
   "execution_count": 4,
   "metadata": {},
   "outputs": [
    {
     "name": "stdout",
     "output_type": "stream",
     "text": [
      "I have a cat\n",
      "I have a mat\n",
      "Things are going swell\n"
     ]
    }
   ],
   "source": [
    "def sentence_searcher(txt,word):\n",
    "    split_txt = txt.split('.')\n",
    "    for i in split_txt:\n",
    "        i_low = i.lower()\n",
    "        word_low = word.lower()\n",
    "        if word_low in i_low:\n",
    "            return(i)\n",
    "\n",
    "print(sentence_searcher(\"I have a cat.I have a mat.Things are going swell.\",'cat'))\n",
    "print(sentence_searcher(\"I have a cat.I have a mat.Things are going swell.\",'MAT'))\n",
    "print(sentence_searcher(\"I have a cat.I have a mat.Things are going swell\",'things'))"
   ]
  },
  {
   "cell_type": "markdown",
   "metadata": {},
   "source": [
    "### 4. Your task, is to create N x N multiplication table, of size n provided in parameter."
   ]
  },
  {
   "cell_type": "code",
   "execution_count": 8,
   "metadata": {},
   "outputs": [
    {
     "name": "stdout",
     "output_type": "stream",
     "text": [
      "[[1, 2, 3, 4, 5], [2, 4, 6, 8, 10], [3, 6, 9, 12, 15], [4, 8, 12, 16, 20], [5, 10, 15, 20, 25]]\n",
      "[[1, 2, 3], [2, 4, 6], [3, 6, 9]]\n"
     ]
    }
   ],
   "source": [
    "def multiplication_table(n):\n",
    "    table_list =[]\n",
    "    for i in range(1,n+1):\n",
    "        single_tables = []\n",
    "        for j in range(1,n+1):           \n",
    "            mul = i*j\n",
    "            single_tables.append(mul)\n",
    "        table_list.append(single_tables)\n",
    "    return table_list\n",
    "\n",
    "print(multiplication_table(5))\n",
    "print(multiplication_table(3))"
   ]
  }
 ],
 "metadata": {
  "kernelspec": {
   "display_name": "Python 3",
   "language": "python",
   "name": "python3"
  },
  "language_info": {
   "codemirror_mode": {
    "name": "ipython",
    "version": 3
   },
   "file_extension": ".py",
   "mimetype": "text/x-python",
   "name": "python",
   "nbconvert_exporter": "python",
   "pygments_lexer": "ipython3",
   "version": "3.7.6"
  }
 },
 "nbformat": 4,
 "nbformat_minor": 4
}
