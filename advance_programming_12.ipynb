{
 "cells": [
  {
   "cell_type": "markdown",
   "metadata": {},
   "source": [
    "# Python Advance Programming Assignment\n",
    "## Assignment_12"
   ]
  },
  {
   "cell_type": "markdown",
   "metadata": {},
   "source": [
    "### 1. For this challenge, forget how to add two numbers together. The best explanation on what to do for this function is this meme:"
   ]
  },
  {
   "cell_type": "code",
   "execution_count": 37,
   "metadata": {},
   "outputs": [
    {
     "name": "stdout",
     "output_type": "stream",
     "text": [
      "515\n",
      "1103\n",
      "31499\n"
     ]
    }
   ],
   "source": [
    "def meme_sum(n1, n2):\n",
    "    nums = [str(n1), str(n2)]\n",
    "    nums = list(map(lambda s: s.zfill(max(map(len, nums))), nums))\n",
    "\n",
    "    result = [str(int(v1) + int(v2)) for v1, v2 in zip(*nums)]\n",
    "\n",
    "    return int(''.join(result))\n",
    "\n",
    "print(meme_sum(26,39))\n",
    "print(meme_sum(122,81))\n",
    "print(meme_sum(1222,30277))"
   ]
  },
  {
   "cell_type": "markdown",
   "metadata": {},
   "source": [
    "### 2. Given an integer, create a function that returns the next prime. If the number is prime, return the number itself."
   ]
  },
  {
   "cell_type": "code",
   "execution_count": 8,
   "metadata": {},
   "outputs": [
    {
     "name": "stdout",
     "output_type": "stream",
     "text": [
      "13\n",
      "29\n",
      "11\n"
     ]
    }
   ],
   "source": [
    "import math\n",
    "\n",
    "def next_prime(N):\n",
    "    \n",
    "    def isPrime(n):\n",
    "        if(n <= 1):\n",
    "            return False\n",
    "        if(n <= 3):\n",
    "            return True\n",
    "\n",
    "        if(n % 2 == 0 or n % 3 == 0):\n",
    "            return False\n",
    "\n",
    "        for i in range(5,int(math.sqrt(n) + 1), 6):\n",
    "            if(n % i == 0 or n % (i + 2) == 0):\n",
    "                return False\n",
    "\n",
    "        return True\n",
    "\n",
    "\n",
    "    def nextPrime():\n",
    "        if (N <= 1):\n",
    "            return 2\n",
    "\n",
    "        prime = N\n",
    "        found = False\n",
    "        while(not found):\n",
    "            \n",
    "            if(isPrime(prime) == True):\n",
    "                return prime\n",
    "            prime = prime + 1\n",
    "\n",
    "            if(isPrime(prime) == True):\n",
    "                found = True\n",
    "\n",
    "        return prime\n",
    "    return nextPrime()\n",
    " \n",
    "print(next_prime(12))\n",
    "print(next_prime(24))\n",
    "print(next_prime(11))"
   ]
  },
  {
   "cell_type": "markdown",
   "metadata": {},
   "source": [
    "### 3. If a person traveled up a hill for 18mins at 20mph and then traveled back down the same path at 60mph then their average speed traveled was 30mph.\n",
    "### Write a function that returns the average speed traveled given an uphill time, uphill rate and a downhill rate. Uphill time is given in minutes. Return the rate as an integer (mph). No rounding is necessary."
   ]
  },
  {
   "cell_type": "code",
   "execution_count": 13,
   "metadata": {},
   "outputs": [
    {
     "name": "stdout",
     "output_type": "stream",
     "text": [
      "30.0\n",
      "15.0\n",
      "12.0\n"
     ]
    }
   ],
   "source": [
    "def ave_spd(up_time,up_rate,down_rate):\n",
    "    \"\"\"\n",
    "    Average speed formula\n",
    "    avg_speed = up_rate + up_rate/1+(up_rate/down_rate)\n",
    "    \"\"\"\n",
    "    \n",
    "    up_sum_num = up_rate + up_rate\n",
    "    \n",
    "    up_down = up_rate / down_rate\n",
    "    up_down_den  = 1 + up_down\n",
    "    \n",
    "    avg_speed = up_sum_num /up_down_den\n",
    "    \n",
    "    return avg_speed\n",
    "\n",
    "print(ave_spd(18,20,60))\n",
    "print(ave_spd(30,10,30))\n",
    "print(ave_spd(30,8,24))\n"
   ]
  },
  {
   "cell_type": "markdown",
   "metadata": {},
   "source": [
    "### 4. Given an integer n, implement a Kempner Function."
   ]
  },
  {
   "cell_type": "code",
   "execution_count": 18,
   "metadata": {},
   "outputs": [
    {
     "name": "stdout",
     "output_type": "stream",
     "text": [
      "3\n",
      "5\n",
      "2\n"
     ]
    }
   ],
   "source": [
    "def kempner(n, i=1, total=1):\n",
    "    if total % n == 0:\n",
    "        return max(1, i-1)\n",
    "    else:\n",
    "        return kempner(n, i+1, total*i)\n",
    "    \n",
    "print(kempner(6))\n",
    "print(kempner(10))\n",
    "print(kempner(2))"
   ]
  }
 ],
 "metadata": {
  "kernelspec": {
   "display_name": "Python 3",
   "language": "python",
   "name": "python3"
  },
  "language_info": {
   "codemirror_mode": {
    "name": "ipython",
    "version": 3
   },
   "file_extension": ".py",
   "mimetype": "text/x-python",
   "name": "python",
   "nbconvert_exporter": "python",
   "pygments_lexer": "ipython3",
   "version": "3.7.6"
  }
 },
 "nbformat": 4,
 "nbformat_minor": 4
}
