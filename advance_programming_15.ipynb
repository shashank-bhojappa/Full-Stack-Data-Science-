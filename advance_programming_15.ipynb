{
 "cells": [
  {
   "cell_type": "markdown",
   "metadata": {},
   "source": [
    "# Python Advance Programming Assignment\n",
    "## Assignment_15"
   ]
  },
  {
   "cell_type": "markdown",
   "metadata": {},
   "source": [
    "### 3. Create a function that, given a phrase and a number of letters guessed, returns a string with hyphens - for every letter of the phrase not guessed, and each letter guessed in place."
   ]
  },
  {
   "cell_type": "code",
   "execution_count": 74,
   "metadata": {},
   "outputs": [
    {
     "name": "stdout",
     "output_type": "stream",
     "text": [
      "-e---o--e-\n",
      "tree\n",
      "P----n-r----\n",
      "-e---a--e-y--a----y---y-\n"
     ]
    }
   ],
   "source": [
    "def hangman(str,lst):\n",
    "    final = ''\n",
    "    for i in str:\n",
    "        i_low = i.lower()\n",
    "        if i_low in lst:\n",
    "            final = final + i\n",
    "        else:\n",
    "            final = final + '-'\n",
    "    return final\n",
    "\n",
    "print(hangman(\"helicopter\", [\"o\", \"e\", \"s\"]))\n",
    "print(hangman(\"tree\", [\"r\", \"t\", \"e\"]))\n",
    "print(hangman(\"Python rules\", [\"a\", \"n\", \"p\", \"r\", \"z\"]))\n",
    "print(hangman(\"He's a very naughty boy!\", [\"e\", \"a\", \"y\"]))"
   ]
  },
  {
   "cell_type": "markdown",
   "metadata": {},
   "source": [
    "### 4. The Collatz sequence is as follows:\n",
    "### - Start with some given integer n.\n",
    "### - If it is even, the next number will be n divided by 2.\n",
    "### - If it is odd, multiply it by 3 and add 1 to make the next number.\n",
    "### - The sequence stops when it reaches 1.\n",
    "### According to the Collatz conjecture, it will always reach 1. If that&#39;s true, you can construct a finite sequence following the aforementioned method for any given integer.\n",
    "### Write a function that takes in an integer n and returns the highest integer in the corresponding Collatz sequence."
   ]
  },
  {
   "cell_type": "code",
   "execution_count": 28,
   "metadata": {},
   "outputs": [
    {
     "name": "stdout",
     "output_type": "stream",
     "text": [
      "16\n",
      "32\n",
      "256\n"
     ]
    }
   ],
   "source": [
    "def collatz_sequence(n):\n",
    "    collatz_list=list() #list to store the values of sequence\n",
    "    \n",
    "    while (n!=1) :\n",
    "        collatz_list.append(n) \n",
    "        #if n is even\n",
    "        if (n%2==0) :\n",
    "            n=n//2\n",
    "        else:\n",
    "          #if n is odd\n",
    "            n=(3*n)+1\n",
    "    collatz_list.append(1)  #print 1 in the end   \n",
    "    l=len(collatz_list)\n",
    "    \n",
    "    li = []\n",
    "    for i in range(0,l):\n",
    "        li.append(collatz_list[i])\n",
    "    \n",
    "    maximum = max(li)\n",
    "    return maximum\n",
    "\n",
    "#driver code  \n",
    "print(collatz_sequence(10))\n",
    "print(collatz_sequence(32))\n",
    "print(collatz_sequence(85))"
   ]
  }
 ],
 "metadata": {
  "kernelspec": {
   "display_name": "Python 3",
   "language": "python",
   "name": "python3"
  },
  "language_info": {
   "codemirror_mode": {
    "name": "ipython",
    "version": 3
   },
   "file_extension": ".py",
   "mimetype": "text/x-python",
   "name": "python",
   "nbconvert_exporter": "python",
   "pygments_lexer": "ipython3",
   "version": "3.7.6"
  }
 },
 "nbformat": 4,
 "nbformat_minor": 4
}
