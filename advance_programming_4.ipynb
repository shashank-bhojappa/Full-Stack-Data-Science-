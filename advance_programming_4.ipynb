{
 "cells": [
  {
   "cell_type": "markdown",
   "metadata": {},
   "source": [
    "# Python Advance Programming Assignment\n",
    "## Assignment_4"
   ]
  },
  {
   "cell_type": "markdown",
   "metadata": {},
   "source": [
    "### 1. In mathematics, the Fibonacci numbers, commonly denoted Fn, form a sequence, called the Fibonacci sequence, such that each number is the sum of the two preceding ones, starting from 0 and 1:"
   ]
  },
  {
   "cell_type": "code",
   "execution_count": 6,
   "metadata": {},
   "outputs": [
    {
     "name": "stdout",
     "output_type": "stream",
     "text": [
      "5\n",
      "55\n",
      "6765\n"
     ]
    }
   ],
   "source": [
    "def fib_fast(n):\n",
    "   \n",
    "    if n < 0:\n",
    "        print(\"Incorrect input\")\n",
    " \n",
    "    elif n == 0:\n",
    "        return 0\n",
    " \n",
    "    elif n == 1 or n == 2:\n",
    "        return 1\n",
    " \n",
    "    else:\n",
    "        return Fibonacci(n-1) + Fibonacci(n-2)\n",
    " \n",
    "print(fib_fast(5))\n",
    "print(fib_fast(10))\n",
    "print(fib_fast(20))"
   ]
  },
  {
   "cell_type": "markdown",
   "metadata": {},
   "source": [
    "### 2. Create a function that takes a strings characters as ASCII and returns each characters hexadecimal value as a string."
   ]
  },
  {
   "cell_type": "code",
   "execution_count": 11,
   "metadata": {},
   "outputs": [
    {
     "name": "stdout",
     "output_type": "stream",
     "text": [
      "68656c6c6f20776f726c64\n"
     ]
    }
   ],
   "source": [
    "def convert_to_hex(ascii):\n",
    "    hexa = \"\"\n",
    "    for i in range(len(ascii)):\n",
    "        ch = ascii[i]\n",
    "        in1 = ord(ch)\n",
    "   \n",
    "        part = hex(in1).lstrip(\"0x\").rstrip(\"L\")\n",
    "        hexa += part\n",
    "    return hexa\n",
    "\n",
    "print(ASCIItoHEX(\"hello world\"))"
   ]
  },
  {
   "cell_type": "markdown",
   "metadata": {},
   "source": [
    "### 3. Someone has attempted to censor my strings by replacing every vowel with a *, l*k* th*s. Luckily, I&#39;ve been able to find the vowels that were removed. Given a censored string and a string of the censored vowels, return the original uncensored string."
   ]
  },
  {
   "cell_type": "code",
   "execution_count": 15,
   "metadata": {},
   "outputs": [],
   "source": [
    "def uncensor(string, vowels):\n",
    "    new_ = ''\n",
    "    counter = 0\n",
    "    for i in range(len(string)):\n",
    "        if string[i] == '*':\n",
    "            new_ += vowels[counter]\n",
    "            counter += 1\n",
    "        else:\n",
    "            new_ += string[i]\n",
    "    return new_"
   ]
  },
  {
   "cell_type": "code",
   "execution_count": 17,
   "metadata": {},
   "outputs": [
    {
     "data": {
      "text/plain": [
       "'Where did my vowels go?'"
      ]
     },
     "execution_count": 17,
     "metadata": {},
     "output_type": "execute_result"
    }
   ],
   "source": [
    "uncensor(\"Wh*r* d*d my v*w*ls g*?\",'eeioeo')"
   ]
  },
  {
   "cell_type": "markdown",
   "metadata": {},
   "source": [
    "### 5. Create a function that takes an integer n and returns the factorial of factorials. See below examples for a better understanding:"
   ]
  },
  {
   "cell_type": "code",
   "execution_count": 45,
   "metadata": {},
   "outputs": [],
   "source": [
    "def fact_of_fact(num):\n",
    "    fac_mul = 1\n",
    "\n",
    "    for i in range(num+1):\n",
    "        factorial = 1\n",
    "\n",
    "        if num < 0:\n",
    "           print(\"Sorry, factorial does not exist for negative numbers\")\n",
    "        else:\n",
    "           for i in range(1,num + 1):\n",
    "               factorial = factorial*i\n",
    "           num = num - 1\n",
    "           \n",
    "        fac_mul = fac_mul * factorial\n",
    "    return(fac_mul)"
   ]
  },
  {
   "cell_type": "code",
   "execution_count": 47,
   "metadata": {},
   "outputs": [
    {
     "name": "stdout",
     "output_type": "stream",
     "text": [
      "288\n",
      "34560\n"
     ]
    }
   ],
   "source": [
    "print(fact_of_fact(4))\n",
    "print(fact_of_fact(5))"
   ]
  }
 ],
 "metadata": {
  "kernelspec": {
   "display_name": "Python 3",
   "language": "python",
   "name": "python3"
  },
  "language_info": {
   "codemirror_mode": {
    "name": "ipython",
    "version": 3
   },
   "file_extension": ".py",
   "mimetype": "text/x-python",
   "name": "python",
   "nbconvert_exporter": "python",
   "pygments_lexer": "ipython3",
   "version": "3.7.6"
  }
 },
 "nbformat": 4,
 "nbformat_minor": 4
}
