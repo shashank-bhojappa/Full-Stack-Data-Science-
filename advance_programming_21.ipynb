{
 "cells": [
  {
   "cell_type": "markdown",
   "metadata": {},
   "source": [
    "# Python Advance Programming Assignment\n",
    "## Assignment_21"
   ]
  },
  {
   "cell_type": "markdown",
   "metadata": {},
   "source": [
    "### 1. Given a sentence, return the number of words which have the same first and last letter."
   ]
  },
  {
   "cell_type": "code",
   "execution_count": 36,
   "metadata": {},
   "outputs": [
    {
     "name": "stdout",
     "output_type": "stream",
     "text": [
      "1\n",
      "0\n",
      "1\n"
     ]
    }
   ],
   "source": [
    "def count_same_ends(str):\n",
    "    split_str = str.split(' ')\n",
    "    \n",
    "    mod_list = []\n",
    "    for i in split_str:\n",
    "        if \"!\" in i or \"?\" in i or '.' in i:\n",
    "            #print(i)\n",
    "            remove = i[0:-1]\n",
    "            mod_list.append(remove)\n",
    "        else:\n",
    "            mod_list.append(i)\n",
    "    \n",
    "    count = 0\n",
    "    for i in mod_list:\n",
    "        if len(i) > 1:\n",
    "            i_low = i.lower()\n",
    "            if i_low[0] == i_low[-1]:\n",
    "                count = count + 1\n",
    "    return count\n",
    "\n",
    "print(count_same_ends(\"Pop! goes the balloon\"))\n",
    "print(count_same_ends(\"And the crowd goes wild!\"))\n",
    "print(count_same_ends(\"No I am not in a gang.\"))"
   ]
  },
  {
   "cell_type": "markdown",
   "metadata": {},
   "source": [
    "### 2. The Atbash cipher is an encryption method in which each letter of a word is replaced with its &quot;mirror&quot; letter in the alphabet: A &lt;=&gt; Z; B &lt;=&gt; Y; C &lt;=&gt; X; etc.\n",
    "### Create a function that takes a string and applies the Atbash cipher to it."
   ]
  },
  {
   "cell_type": "code",
   "execution_count": 43,
   "metadata": {},
   "outputs": [
    {
     "name": "stdout",
     "output_type": "stream",
     "text": [
      "zkkov\n",
      "Svool Dliow\n"
     ]
    }
   ],
   "source": [
    "lookup_table = {'A' : 'Z', 'B' : 'Y', 'C' : 'X', 'D' : 'W', 'E' : 'V',\n",
    "        'F' : 'U', 'G' : 'T', 'H' : 'S', 'I' : 'R', 'J' : 'Q',\n",
    "        'K' : 'P', 'L' : 'O', 'M' : 'N', 'N' : 'M', 'O' : 'L',\n",
    "        'P' : 'K', 'Q' : 'J', 'R' : 'I', 'S' : 'H', 'T' : 'G',\n",
    "        'U' : 'F', 'V' : 'E', 'W' : 'D', 'X' : 'C', 'Y' : 'B', 'Z' : 'A',\n",
    "        'a' : 'z', 'b' : 'y', 'c' : 'x', 'd' : 'w', 'e' : 'v',\n",
    "        'f' : 'u', 'g' : 't', 'h' : 's', 'i' : 'r', 'j' : 'q',\n",
    "        'k' : 'p', 'l' : 'o', 'm' : 'n', 'n' : 'm', 'o' : 'l',\n",
    "        'p' : 'k', 'q' : 'j', 'r' : 'i', 's' : 'h', 't' : 'g',\n",
    "        'u' : 'f', 'v' : 'e', 'w' : 'd', 'x' : 'c', 'y' : 'b', 'z' : 'a'}\n",
    "  \n",
    "def atbash(message):\n",
    "    cipher = ''\n",
    "    for letter in message:\n",
    "        if(letter != ' '):\n",
    "            cipher += lookup_table[letter]\n",
    "        else:\n",
    "            cipher += ' '\n",
    "  \n",
    "    return cipher\n",
    "  \n",
    "print(atbash('apple'))\n",
    "print(atbash('Hello World'))\n",
    "      \n",
    "    "
   ]
  },
  {
   "cell_type": "markdown",
   "metadata": {},
   "source": [
    "### 3. Create a class Employee that will take a full name as argument, as well as a set of none, one or more keywords. Each instance should have a name and a lastname attributes plus one more attribute for each of the keywords, if any."
   ]
  },
  {
   "cell_type": "code",
   "execution_count": 60,
   "metadata": {},
   "outputs": [],
   "source": [
    "class Employee:\n",
    "    def __init__(self,first_name,last_name,height,nationality):\n",
    "        self.first_name = first_name\n",
    "        self.last_name = last_name\n",
    "        self.height = height\n",
    "        self.nationality = nationality    "
   ]
  },
  {
   "cell_type": "code",
   "execution_count": 61,
   "metadata": {},
   "outputs": [
    {
     "name": "stdout",
     "output_type": "stream",
     "text": [
      "John\n",
      "Major\n",
      "178\n",
      "Indian\n"
     ]
    }
   ],
   "source": [
    "john = Employee('John','Major',178,'Indian')\n",
    "print(john.first_name)\n",
    "print(john.last_name)\n",
    "print(john.height)\n",
    "print(john.nationality)"
   ]
  }
 ],
 "metadata": {
  "kernelspec": {
   "display_name": "Python 3",
   "language": "python",
   "name": "python3"
  },
  "language_info": {
   "codemirror_mode": {
    "name": "ipython",
    "version": 3
   },
   "file_extension": ".py",
   "mimetype": "text/x-python",
   "name": "python",
   "nbconvert_exporter": "python",
   "pygments_lexer": "ipython3",
   "version": "3.7.6"
  }
 },
 "nbformat": 4,
 "nbformat_minor": 4
}
