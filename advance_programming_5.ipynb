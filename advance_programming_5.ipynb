{
 "cells": [
  {
   "cell_type": "markdown",
   "metadata": {},
   "source": [
    "# Python Advance Programming Assignment\n",
    "## Assignment_5"
   ]
  },
  {
   "cell_type": "markdown",
   "metadata": {},
   "source": [
    "### 1. Create a function that takes a number n (integer greater than zero) as an argument, and returns 2 if n is odd and 8 if n is even.\n",
    "### You can only use the following arithmetic operators: addition of numbers +, subtraction of numbers -, multiplication of number *, division of number /, and exponentiation **.\n",
    "### You are not allowed to use any other methods in this challenge (i.e. no if statements, comparison operators, etc)."
   ]
  },
  {
   "cell_type": "code",
   "execution_count": 6,
   "metadata": {},
   "outputs": [],
   "source": [
    "def f(num):\n",
    "    n_type = (\"8\", \"2\")  \n",
    "    return(n_type[num%2])"
   ]
  },
  {
   "cell_type": "code",
   "execution_count": 7,
   "metadata": {},
   "outputs": [
    {
     "name": "stdout",
     "output_type": "stream",
     "text": [
      "2\n",
      "8\n",
      "2\n"
     ]
    }
   ],
   "source": [
    "print(f(1))\n",
    "print(f(2))\n",
    "print(f(3))"
   ]
  },
  {
   "cell_type": "markdown",
   "metadata": {},
   "source": [
    "### 2. Create a function that returns the majority vote in a list. A majority vote is an element that occurs &gt; N/2 times in a list (where N is the length of the list)."
   ]
  },
  {
   "cell_type": "code",
   "execution_count": 27,
   "metadata": {},
   "outputs": [
    {
     "name": "stdout",
     "output_type": "stream",
     "text": [
      "A\n",
      "None\n"
     ]
    }
   ],
   "source": [
    "def majority_vote(arr):\n",
    "    n = len(arr)\n",
    " \n",
    "    maxCount = 0\n",
    "    index = -1  \n",
    "    for i in range(n):\n",
    " \n",
    "        count = 0\n",
    "        for j in range(n):\n",
    " \n",
    "            if(arr[i] == arr[j]):\n",
    "                count += 1\n",
    " \n",
    "        if(count > maxCount):\n",
    " \n",
    "            maxCount = count\n",
    "            index = i\n",
    " \n",
    "    if (maxCount > n//2):\n",
    "        return(arr[index])\n",
    " \n",
    "    else:\n",
    "        return(\"None\")\n",
    " \n",
    "\n",
    "\n",
    "print(majority_vote([\"A\", \"A\", \"A\", \"B\", \"C\", \"A\"]))\n",
    "print(majority_vote([\"A\", \"B\", \"B\", \"A\", \"C\", \"C\"]))"
   ]
  },
  {
   "cell_type": "markdown",
   "metadata": {},
   "source": [
    "### 3. Create a function that takes a string txt and censors any word from a given list lst. The text removed must be replaced by the given character char."
   ]
  },
  {
   "cell_type": "code",
   "execution_count": 74,
   "metadata": {},
   "outputs": [],
   "source": [
    "def censor_string(text,word_list,symbol):\n",
    "    new_list = []\n",
    "    words = text.split()\n",
    "    for i in words:\n",
    "        if i in word_list:\n",
    "            len_i = len(i)\n",
    "            print(len_i)\n",
    "            encrypt = symbol*len_i\n",
    "            new_list.append(encrypt)\n",
    "        else:\n",
    "            new_list.append(i)\n",
    "    encrypted_list = ' '.join(new_list)\n",
    "    return(encrypted_list)\n",
    "    "
   ]
  },
  {
   "cell_type": "code",
   "execution_count": 76,
   "metadata": {},
   "outputs": [
    {
     "name": "stdout",
     "output_type": "stream",
     "text": [
      "5\n",
      "1\n"
     ]
    },
    {
     "data": {
      "text/plain": [
       "'----- is - Wednesday!'"
      ]
     },
     "execution_count": 76,
     "metadata": {},
     "output_type": "execute_result"
    }
   ],
   "source": [
    "censor_string(\"Today is a Wednesday!\", [\"Today\", \"a\"],'-')"
   ]
  },
  {
   "cell_type": "markdown",
   "metadata": {},
   "source": [
    "### 4. Create a function which takes an integer n and returns True if the given number is a Polydivisible Number and False otherwise."
   ]
  },
  {
   "cell_type": "code",
   "execution_count": 18,
   "metadata": {},
   "outputs": [],
   "source": [
    "def is_polydivisible(x):\n",
    "    x = str(x)\n",
    "    for i in range(len(x)):\n",
    "        if int(x[:i+1]) % (i+1) != 0:\n",
    "            return False\n",
    "    return True"
   ]
  },
  {
   "cell_type": "code",
   "execution_count": 19,
   "metadata": {},
   "outputs": [
    {
     "data": {
      "text/plain": [
       "True"
      ]
     },
     "execution_count": 19,
     "metadata": {},
     "output_type": "execute_result"
    }
   ],
   "source": [
    "is_polydivisible(1232)"
   ]
  },
  {
   "cell_type": "markdown",
   "metadata": {},
   "source": [
    "### 5. Create a function that takes a list of numbers and returns the sum of all prime numbers in the list."
   ]
  },
  {
   "cell_type": "code",
   "execution_count": 88,
   "metadata": {},
   "outputs": [
    {
     "data": {
      "text/plain": [
       "17"
      ]
     },
     "execution_count": 88,
     "metadata": {},
     "output_type": "execute_result"
    }
   ],
   "source": [
    "from math import sqrt\n",
    "\n",
    "def checkPrime(numberToCheck) :\n",
    " \n",
    "    if numberToCheck == 1 :\n",
    "        return False\n",
    " \n",
    "    for i in range(2, int(sqrt(numberToCheck)) + 1) :\n",
    " \n",
    "        if numberToCheck % i == 0 :\n",
    "            return False\n",
    " \n",
    "    return True\n",
    " \n",
    "def sum_primes(lst) :\n",
    " \n",
    "    sum = 0\n",
    " \n",
    "    for i in lst :\n",
    " \n",
    "        # Check for prime\n",
    "        isPrime = checkPrime(i)\n",
    "         \n",
    "        if (isPrime) :\n",
    " \n",
    "            # Sum the prime number\n",
    "            sum += i\n",
    " \n",
    "    return sum\n",
    "\n",
    "sum_primes([1,2,3,4,5,6,7,8,9,10])"
   ]
  }
 ],
 "metadata": {
  "kernelspec": {
   "display_name": "Python 3",
   "language": "python",
   "name": "python3"
  },
  "language_info": {
   "codemirror_mode": {
    "name": "ipython",
    "version": 3
   },
   "file_extension": ".py",
   "mimetype": "text/x-python",
   "name": "python",
   "nbconvert_exporter": "python",
   "pygments_lexer": "ipython3",
   "version": "3.7.6"
  }
 },
 "nbformat": 4,
 "nbformat_minor": 4
}
