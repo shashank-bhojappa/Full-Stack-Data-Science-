{
 "cells": [
  {
   "cell_type": "markdown",
   "metadata": {},
   "source": [
    "# Python Advance Programming Assignment\n",
    "## Assignment_11"
   ]
  },
  {
   "cell_type": "markdown",
   "metadata": {},
   "source": [
    "### 1. Create a function that takes a list and returns a new list containing only prime numbers."
   ]
  },
  {
   "cell_type": "code",
   "execution_count": 70,
   "metadata": {},
   "outputs": [
    {
     "name": "stdout",
     "output_type": "stream",
     "text": [
      "[7, 3, 11]\n",
      "[10007, 1009]\n",
      "[1009, 3, 61, 1087, 1091, 1093, 1097]\n"
     ]
    }
   ],
   "source": [
    "def filter_primes(lst):\n",
    "    def is_prime(num):\n",
    "        for i in range(2,num):\n",
    "            if num%i == 0:\n",
    "                return False\n",
    "                break\n",
    "        else: \n",
    "            return True\n",
    "\n",
    "    def primes(lst):\n",
    "        primes = []\n",
    "        for i in lst:\n",
    "            if is_prime(i) == True:\n",
    "                primes.append(i)\n",
    "            else:\n",
    "                pass\n",
    "        return primes\n",
    "    return primes(lst)\n",
    "\n",
    "print(filter_primes([7, 9, 3, 9, 10, 11, 27]))\n",
    "print(filter_primes([10007, 1009, 1007, 27, 147, 77, 1001, 70]))\n",
    "print(filter_primes([1009, 10, 10, 10, 3, 33, 9, 4, 61, 63, 69, 1087, 1091, 1093, 1097]))"
   ]
  },
  {
   "cell_type": "markdown",
   "metadata": {},
   "source": [
    "### 2. Once a water balloon pops, is soaks the area around it. The ground gets drier the further away you travel from the balloon. The effect of a water balloon popping can be modeled using a list. Create a function that takes a list which takes the pre-pop state and returns the state after the balloon is popped. The pre-pop state will contain at most a single balloon, whose size is represented by the only non-zero element."
   ]
  },
  {
   "cell_type": "code",
   "execution_count": 69,
   "metadata": {},
   "outputs": [
    {
     "name": "stdout",
     "output_type": "stream",
     "text": [
      "[0, 1, 2, 3, 4, 3, 2, 1, 0]\n",
      "[0, 1, 2, 1, 0]\n"
     ]
    }
   ],
   "source": [
    "def popping(lst):\n",
    "    ind = 0\n",
    "    for i in lst:\n",
    "        if i>0:\n",
    "            ind = i\n",
    "    first_li = []\n",
    "    for i in range(ind+1):\n",
    "        first_li.insert(i,ind-i)\n",
    "    first_li_sort = first_li[::-1]\n",
    "    \n",
    "    second_li = []\n",
    "    for i in range(ind+1):\n",
    "        second_li.insert(i,ind-i)\n",
    "    \n",
    "    join_list = first_li_sort + second_li\n",
    "    \n",
    "    new_join_list = join_list.pop(ind)\n",
    "                   \n",
    "    return join_list\n",
    "\n",
    "print(popping([0,0,0,0,4,0,0,0,0]))\n",
    "print(popping([0,0,2,0,0]))"
   ]
  },
  {
   "cell_type": "markdown",
   "metadata": {},
   "source": [
    "### 3. &quot;Loves me, loves me not&quot; is a traditional game in which a person plucks off all the petals of a flower one by one, saying the phrase &quot;Loves me&quot; and &quot;Loves me not&quot; when determining whether the one that they love, loves them back.\n",
    "### Given a number of petals, return a string which repeats the phrases &quot;Loves me&quot; and &quot;Loves me not&quot; for every alternating petal, and return the last phrase in all caps. Remember to put a comma and space between phrases."
   ]
  },
  {
   "cell_type": "code",
   "execution_count": 84,
   "metadata": {},
   "outputs": [
    {
     "name": "stdout",
     "output_type": "stream",
     "text": [
      "Loves me,Loves me not,Loves me,Loves me not,LOVES ME\n",
      "Loves me,Loves me not,Loves me,Loves me not,Loves me,LOVES ME NOT\n"
     ]
    }
   ],
   "source": [
    "def loves_me(num):\n",
    "    loves_me = \"Loves me\"\n",
    "    loves_menot = \"Loves me not\"\n",
    "    love_list = []\n",
    "    for i in range(1,num):\n",
    "        if i%2==0:\n",
    "            love_list.append(loves_menot)\n",
    "        else:\n",
    "            love_list.append(loves_me)\n",
    "    \n",
    "    if love_list[-1] == loves_me:\n",
    "        love_list.extend([\"LOVES ME NOT\"])\n",
    "    else:\n",
    "        love_list.extend([\"LOVES ME\"])\n",
    "        \n",
    "    final_list = \",\".join(love_list)\n",
    "    return final_list\n",
    "\n",
    "print(loves_me(5))\n",
    "print(loves_me(6))"
   ]
  },
  {
   "cell_type": "markdown",
   "metadata": {},
   "source": [
    "### 4. Write a function that sorts each string in a list by the letter in alphabetic ascending order (a-z)."
   ]
  },
  {
   "cell_type": "code",
   "execution_count": 77,
   "metadata": {},
   "outputs": [
    {
     "name": "stdout",
     "output_type": "stream",
     "text": [
      "['2344b', '932c', '832u32']\n",
      "['99a', '78b', 'c2345', '11d']\n",
      "['304q2', '5y5', '572z']\n",
      "[]\n"
     ]
    }
   ],
   "source": [
    "def sort_by_letter(lst):\n",
    "    di = {}\n",
    "    for i in lst:\n",
    "        for j in i:\n",
    "            if j.isalpha():\n",
    "                di[j] = i\n",
    "    \n",
    "    sort_list = []\n",
    "    for i in sorted(di) :\n",
    "        sort = i, di[i]\n",
    "        sort_list.append(sort)\n",
    "    \n",
    "    final_list = []\n",
    "    for i in sort_list:\n",
    "        final_list.append(i[1])\n",
    "        \n",
    "    return final_list\n",
    "    \n",
    "\n",
    "print(sort_by_letter([\"932c\", \"832u32\", \"2344b\"]))\n",
    "print(sort_by_letter([\"99a\", \"78b\", \"c2345\", \"11d\"]))\n",
    "print(sort_by_letter([\"572z\", \"5y5\", \"304q2\"]))\n",
    "print(sort_by_letter([]))"
   ]
  }
 ],
 "metadata": {
  "kernelspec": {
   "display_name": "Python 3",
   "language": "python",
   "name": "python3"
  },
  "language_info": {
   "codemirror_mode": {
    "name": "ipython",
    "version": 3
   },
   "file_extension": ".py",
   "mimetype": "text/x-python",
   "name": "python",
   "nbconvert_exporter": "python",
   "pygments_lexer": "ipython3",
   "version": "3.7.6"
  }
 },
 "nbformat": 4,
 "nbformat_minor": 4
}
