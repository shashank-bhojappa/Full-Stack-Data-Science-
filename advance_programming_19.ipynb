{
 "cells": [
  {
   "cell_type": "markdown",
   "metadata": {},
   "source": [
    "# Python Advance Programming Assignment\n",
    "## Assignment_19"
   ]
  },
  {
   "cell_type": "markdown",
   "metadata": {},
   "source": [
    "### 1. Create a checker board generator, which takes as inputs n and 2 elements to generate an n x n checkerboard with those two elements as alternating squares."
   ]
  },
  {
   "cell_type": "code",
   "execution_count": 18,
   "metadata": {},
   "outputs": [
    {
     "name": "stdout",
     "output_type": "stream",
     "text": [
      "[[7 8]\n",
      " [8 7]]\n",
      "[['A' 'B' 'A']\n",
      " ['B' 'A' 'B']\n",
      " ['A' 'B' 'A']]\n",
      "[['c' 'd' 'c' 'd']\n",
      " ['d' 'c' 'd' 'c']\n",
      " ['c' 'd' 'c' 'd']\n",
      " ['d' 'c' 'd' 'c']]\n",
      "Invalid\n"
     ]
    }
   ],
   "source": [
    "import numpy as np\n",
    "\n",
    "def checker_board(n,a,b):\n",
    "    if a==b:\n",
    "        return 'Invalid'\n",
    "    x = np.full((n,n),a)\n",
    "    x[1::2,::2] = b\n",
    "    x[::2,1::2] = b\n",
    "    return(x)\n",
    "\n",
    "print(checker_board(2,7,8))\n",
    "print(checker_board(3,'A','B'))\n",
    "print(checker_board(4,'c','d'))\n",
    "print(checker_board(4,'c','c'))"
   ]
  },
  {
   "cell_type": "markdown",
   "metadata": {},
   "source": [
    "### 2. A string is an almost-palindrome if, by changing only one character, you can make it a palindrome. Create a function that returns True if a string is an almost-palindrome and False otherwise."
   ]
  },
  {
   "cell_type": "code",
   "execution_count": 28,
   "metadata": {},
   "outputs": [
    {
     "name": "stdout",
     "output_type": "stream",
     "text": [
      "True\n",
      "True\n",
      "False\n",
      "False\n"
     ]
    }
   ],
   "source": [
    "def almost_palindrome(str) :\n",
    "     \n",
    "    n = len(str)\n",
    "     \n",
    "    # Counting number of\n",
    "    # characters that\n",
    "    # should be changed.\n",
    "    count = 0\n",
    "    for i in range(0, int(n / 2)) :\n",
    "        if (str[i] != str[n - i - 1]) :\n",
    "            count = count + 1\n",
    "     \n",
    "    # If count of changes\n",
    "    # is less than\n",
    "    # or equal to 1\n",
    "    if(count <= 1) :\n",
    "        return True\n",
    "    else :\n",
    "        return False\n",
    " \n",
    "print(almost_palindrome('abcdcbg'))\n",
    "print(almost_palindrome('abccia'))\n",
    "print(almost_palindrome('abcdaaa'))\n",
    "print(almost_palindrome('1234312'))"
   ]
  },
  {
   "cell_type": "markdown",
   "metadata": {},
   "source": [
    "### 3. Create a function that finds how many prime numbers there are, up to the given integer."
   ]
  },
  {
   "cell_type": "code",
   "execution_count": 40,
   "metadata": {},
   "outputs": [
    {
     "name": "stdout",
     "output_type": "stream",
     "text": [
      "4\n",
      "8\n",
      "10\n"
     ]
    }
   ],
   "source": [
    "def prime_numbers(n):\n",
    "\n",
    "    prime_count = []\n",
    "    count = 0\n",
    "    for num in range(1,n + 1):  \n",
    "       if num > 1:  \n",
    "           for i in range(2,num):  \n",
    "               if (num % i) == 0:  \n",
    "                   break  \n",
    "           else:  \n",
    "               prime_count.append(num)\n",
    "               count = count + 1\n",
    "    return(count)\n",
    "\n",
    "print(prime_numbers(10))\n",
    "print(prime_numbers(20))\n",
    "print(prime_numbers(30))"
   ]
  }
 ],
 "metadata": {
  "kernelspec": {
   "display_name": "Python 3",
   "language": "python",
   "name": "python3"
  },
  "language_info": {
   "codemirror_mode": {
    "name": "ipython",
    "version": 3
   },
   "file_extension": ".py",
   "mimetype": "text/x-python",
   "name": "python",
   "nbconvert_exporter": "python",
   "pygments_lexer": "ipython3",
   "version": "3.7.6"
  }
 },
 "nbformat": 4,
 "nbformat_minor": 4
}
