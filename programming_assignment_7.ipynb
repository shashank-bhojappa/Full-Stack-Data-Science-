{
 "cells": [
  {
   "cell_type": "markdown",
   "metadata": {},
   "source": [
    "# Python Basic Programming Assignment\n",
    "## Assignment_7\n"
   ]
  },
  {
   "cell_type": "markdown",
   "metadata": {},
   "source": [
    "### 1. Write a Python Program to find sum of array?"
   ]
  },
  {
   "cell_type": "code",
   "execution_count": 3,
   "metadata": {},
   "outputs": [
    {
     "name": "stdout",
     "output_type": "stream",
     "text": [
      "Sum of the array is  130\n"
     ]
    }
   ],
   "source": [
    "def _sum(arr):\n",
    "    sum=0\n",
    "    for i in arr:\n",
    "        sum = sum + i\n",
    "          \n",
    "    return(sum) \n",
    "   \n",
    "arr=[]  \n",
    "arr = [10, 30, 40, 50] \n",
    " \n",
    "n = len(arr)  \n",
    "ans = _sum(arr) \n",
    "  \n",
    "print ('Sum of the array is ', ans)"
   ]
  },
  {
   "cell_type": "markdown",
   "metadata": {},
   "source": [
    "### 2. Write a Python Program to find largest element in an array?"
   ]
  },
  {
   "cell_type": "code",
   "execution_count": 6,
   "metadata": {},
   "outputs": [
    {
     "name": "stdout",
     "output_type": "stream",
     "text": [
      "Largest in given array is 6708\n"
     ]
    }
   ],
   "source": [
    "def largest(arr,n):\n",
    "    max = arr[0]\n",
    "    for i in range(1, n):\n",
    "        if arr[i] > max:\n",
    "            max = arr[i]\n",
    "    return max\n",
    "\n",
    "arr = [1002, 34, 4, 190, 6708]\n",
    "n = len(arr)\n",
    "Ans = largest(arr,n)\n",
    "print (\"Largest in given array is\",Ans)"
   ]
  },
  {
   "cell_type": "markdown",
   "metadata": {},
   "source": [
    "### 3. Write a Python Program for array rotation?"
   ]
  },
  {
   "cell_type": "code",
   "execution_count": 11,
   "metadata": {},
   "outputs": [
    {
     "name": "stdout",
     "output_type": "stream",
     "text": [
      "Array after left rotation is:  [7, 1, 2, 3, 4, 5, 6]\n"
     ]
    }
   ],
   "source": [
    "def rotateArray(arr, n, d):\n",
    "    temp = []\n",
    "    i = 0\n",
    "    while (i < d):\n",
    "        temp.append(arr[i])\n",
    "        i = i + 1\n",
    "    i = 0\n",
    "    while (d < n):\n",
    "        arr[i] = arr[d]\n",
    "        i = i + 1\n",
    "        d = d + 1\n",
    "    arr[:] = arr[: i] + temp\n",
    "    return arr\n",
    "\n",
    "arr = [1, 2, 3, 4, 5, 6, 7]\n",
    "print(\"Array after left rotation is: \", end=' ')\n",
    "print(rotateArray(arr, len(arr), 6))"
   ]
  },
  {
   "cell_type": "markdown",
   "metadata": {},
   "source": [
    "### 4. Write a Python Program to Split the array and add the first part to the end?"
   ]
  },
  {
   "cell_type": "code",
   "execution_count": 13,
   "metadata": {},
   "outputs": [
    {
     "name": "stdout",
     "output_type": "stream",
     "text": [
      "2 50 76 21 37 1 "
     ]
    }
   ],
   "source": [
    "def splitArr(arr, n, k): \n",
    "    for i in range(0, k): \n",
    "        x = arr[0]\n",
    "        for j in range(0, n-1):\n",
    "            arr[j] = arr[j + 1]\n",
    "          \n",
    "        arr[n-1] = x\n",
    "          \n",
    "arr = [1, 2, 50, 76, 21, 37]\n",
    "n = len(arr)\n",
    "position = 1\n",
    "  \n",
    "splitArr(arr, n, position)\n",
    "  \n",
    "for i in range(0, n): \n",
    "    print(arr[i], end = ' ')"
   ]
  },
  {
   "cell_type": "markdown",
   "metadata": {},
   "source": [
    "### 5. Write a Python Program to check if given array is Monotonic?"
   ]
  },
  {
   "cell_type": "code",
   "execution_count": 19,
   "metadata": {},
   "outputs": [
    {
     "name": "stdout",
     "output_type": "stream",
     "text": [
      "True\n"
     ]
    }
   ],
   "source": [
    "def isMonotonic(A):\n",
    "  \n",
    "    return (all(A[i] <= A[i + 1] for i in range(len(A) - 1)) or\n",
    "            all(A[i] >= A[i + 1] for i in range(len(A) - 1)))\n",
    "\n",
    "A = [32,45,67,89]\n",
    "print(isMonotonic(A))"
   ]
  }
 ],
 "metadata": {
  "kernelspec": {
   "display_name": "Python 3",
   "language": "python",
   "name": "python3"
  },
  "language_info": {
   "codemirror_mode": {
    "name": "ipython",
    "version": 3
   },
   "file_extension": ".py",
   "mimetype": "text/x-python",
   "name": "python",
   "nbconvert_exporter": "python",
   "pygments_lexer": "ipython3",
   "version": "3.7.6"
  }
 },
 "nbformat": 4,
 "nbformat_minor": 4
}
